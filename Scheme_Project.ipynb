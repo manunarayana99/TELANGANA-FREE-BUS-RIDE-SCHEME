{
  "nbformat": 4,
  "nbformat_minor": 0,
  "metadata": {
    "colab": {
      "provenance": []
    },
    "kernelspec": {
      "name": "python3",
      "display_name": "Python 3"
    },
    "language_info": {
      "name": "python"
    }
  },
  "cells": [
    {
      "cell_type": "markdown",
      "source": [
        "# TITLE - STUDYING TRAVEL PATTERN BEFORE AND AFTER THE TELANGANA MAHALAKSHMI FREE BUS RIDE SCHEME\n",
        "# PROBLEM STATEMENT - This EDA project investigates the impact of the Telangana Mahalakshmi Free Bus Ride Scheme by analyzing changes in bus usage frequency, financial relief to commuters, public opinion on the scheme, and the correlation between travel frequency and savings, providing insights into user sentiment and behavioral patterns."
      ],
      "metadata": {
        "id": "RhuZ5FanKhGI"
      }
    },
    {
      "cell_type": "code",
      "execution_count": null,
      "metadata": {
        "id": "j5O5i0JhKNzx"
      },
      "outputs": [],
      "source": [
        "# IMPORTING THE REQUIRED LIBRARIES\n",
        "\n",
        "import pandas as pd\n",
        "import numpy as np\n"
      ]
    },
    {
      "cell_type": "code",
      "source": [
        "df=pd.read_excel(\"/content/Travel Pattern Survey  Mahalakshmi Free Bus Ride Scheme.xlsx\")"
      ],
      "metadata": {
        "id": "4yI79L-FKfUu"
      },
      "execution_count": null,
      "outputs": []
    },
    {
      "cell_type": "code",
      "source": [
        "df.info()"
      ],
      "metadata": {
        "colab": {
          "base_uri": "https://localhost:8080/"
        },
        "id": "GAJWWfnWNEDe",
        "outputId": "89afd807-6d5b-43ca-85d6-1cfdc06dfcfe"
      },
      "execution_count": null,
      "outputs": [
        {
          "output_type": "stream",
          "name": "stdout",
          "text": [
            "<class 'pandas.core.frame.DataFrame'>\n",
            "RangeIndex: 166 entries, 0 to 165\n",
            "Data columns (total 27 columns):\n",
            " #   Column                                                                          Non-Null Count  Dtype \n",
            "---  ------                                                                          --------------  ----- \n",
            " 0   S.NO                                                                            166 non-null    int64 \n",
            " 1   Submitted Time                                                                  166 non-null    object\n",
            " 2   1. Are you a resident of Telangana?                                             166 non-null    object\n",
            " 3   2. Gender                                                                       166 non-null    object\n",
            " 4   3. Age                                                                          166 non-null    object\n",
            " 5   4. District                                                                     166 non-null    object\n",
            " 6   5. Ever travelled in TSRTC buses                                                166 non-null    object\n",
            " 7   6. How frequently you used to travel in state buses before the scheme?\n",
            "         166 non-null    object\n",
            " 8   7. How frequently are you travelling after introducing the scheme?              166 non-null    object\n",
            " 9   8. What is your primary purpose for travel ?                                    166 non-null    object\n",
            " 10  9. Do you mostly travel to the same place or travel to different places?        166 non-null    object\n",
            " 11  10. How frequent do you cross the district or state borders?                    166 non-null    object\n",
            " 12  11. What was the ticket fare before the scheme?                                 166 non-null    object\n",
            " 13  12. Any changes in the ticket fare after introducing the scheme?                166 non-null    object\n",
            " 14  13. If changed, how much?\n",
            "                                                      166 non-null    object\n",
            " 15  14. Have you ever applied for any type of bus pass?                             166 non-null    object\n",
            " 16  15. Cost of pass before scheme introduction:\n",
            "                                   166 non-null    object\n",
            " 17  16. Change in cost of pass after scheme introduction:                           166 non-null    object\n",
            " 18  17. How frequent your family or friends travel in buses using the scheme?       166 non-null    object\n",
            " 19  18. Range of distance you travel:                                               166 non-null    object\n",
            " 20  19. How much did you use to spend on travel monthly before the scheme           166 non-null    object\n",
            " 21  20. How much money do you estimate to save per month using the scheme?          166 non-null    object\n",
            " 22  21. How long did you usually wait for a bus before the scheme ?                 166 non-null    object\n",
            " 23  22. How long do you usually wait for a bus after the scheme                     166 non-null    object\n",
            " 24  23. Satisfaction level in journey ( out of 10 ) before introducing the scheme   166 non-null    int64 \n",
            " 25  24. Satisfaction level in journey (out of 10) after introducing the scheme      166 non-null    int64 \n",
            " 26  25. What is your opinion on the Free Bus Scheme introduced in Telangana?        166 non-null    object\n",
            "dtypes: int64(3), object(24)\n",
            "memory usage: 35.1+ KB\n"
          ]
        }
      ]
    },
    {
      "cell_type": "code",
      "source": [
        "df.head()"
      ],
      "metadata": {
        "colab": {
          "base_uri": "https://localhost:8080/",
          "height": 602
        },
        "id": "o1ffhYBsTLVu",
        "outputId": "f43a7587-d432-4fd7-8b8c-d5aacb5a6822"
      },
      "execution_count": null,
      "outputs": [
        {
          "output_type": "execute_result",
          "data": {
            "text/plain": [
              "   S.NO       Submitted Time 1. Are you a resident of Telangana? 2. Gender  \\\n",
              "0     1  11-04-2025 12:27:28                                Yes     Female   \n",
              "1     2  11-04-2025 12:32:29                                Yes     Female   \n",
              "2     3  14-04-2025 11:31:13                                  No      Male   \n",
              "3     4  14-04-2025 11:31:19                                  No    Female   \n",
              "4     5  14-04-2025 11:33:37                                  No    Female   \n",
              "\n",
              "  3. Age  4. District  5. Ever travelled in TSRTC buses  \\\n",
              "0      23    Kamareddy                             Yes    \n",
              "1      22   Karimnagar                             Yes    \n",
              "2      25      Nellore                             Yes    \n",
              "3      21      Nellore                             Yes    \n",
              "4      23   Karimnagar                             Yes    \n",
              "\n",
              "  6. How frequently you used to travel in state buses before the scheme?\\n  \\\n",
              "0                                            Weekly                          \n",
              "1                                           Monthly                          \n",
              "2                                         Sometimes                          \n",
              "3                                           Monthly                          \n",
              "4                                           Monthly                          \n",
              "\n",
              "  7. How frequently are you travelling after introducing the scheme?  \\\n",
              "0                                           Monthly                    \n",
              "1                                           Monthly                    \n",
              "2                                         Sometimes                    \n",
              "3                                         Sometimes                    \n",
              "4                                           Monthly                    \n",
              "\n",
              "  8. What is your primary purpose for travel ?  ...  \\\n",
              "0                                   Education   ...   \n",
              "1                                   Education   ...   \n",
              "2                       Social / family visits  ...   \n",
              "3                                   Education   ...   \n",
              "4                                   Education   ...   \n",
              "\n",
              "  16. Change in cost of pass after scheme introduction:  \\\n",
              "0                                         Don’t know      \n",
              "1                                         Don’t know      \n",
              "2                                         Don’t know      \n",
              "3                                         Don’t know      \n",
              "4                                         Don’t know      \n",
              "\n",
              "  17. How frequent your family or friends travel in buses using the scheme?  \\\n",
              "0                                            Monthly                          \n",
              "1                                            Monthly                          \n",
              "2                                             Weekly                          \n",
              "3                                              Never                          \n",
              "4                                            Monthly                          \n",
              "\n",
              "  18. Range of distance you travel:  \\\n",
              "0                     100 km–200 km   \n",
              "1                      Below 100 km   \n",
              "2                     100 km–200 km   \n",
              "3                      Above 200 km   \n",
              "4                     100 km–200 km   \n",
              "\n",
              "  19. How much did you use to spend on travel monthly before the scheme  \\\n",
              "0                                          No answer                      \n",
              "1                                          No answer                      \n",
              "2                                  Rs.500 - Rs. 1500                      \n",
              "3                                 Rs. 1500 - Rs.3000                      \n",
              "4                                       Below Rs.500                      \n",
              "\n",
              "  20. How much money do you estimate to save per month using the scheme?  \\\n",
              "0                                         Below ₹500                       \n",
              "1                                         Below ₹500                       \n",
              "2                                         Below ₹500                       \n",
              "3                                         Below ₹500                       \n",
              "4                                         Below ₹500                       \n",
              "\n",
              "  21. How long did you usually wait for a bus before the scheme ?   \\\n",
              "0                                          No answer                 \n",
              "1                                          No answer                 \n",
              "2                              Less than 10 minutes                  \n",
              "3                                      20-30 minutes                 \n",
              "4                                      20-30 minutes                 \n",
              "\n",
              "  22. How long do you usually wait for a bus after the scheme   \\\n",
              "0                                          No answer             \n",
              "1                                          No answer             \n",
              "2                                      20-30 minutes             \n",
              "3                                      20-30 minutes             \n",
              "4                              more than 30 minutes              \n",
              "\n",
              "  23. Satisfaction level in journey ( out of 10 ) before introducing the scheme   \\\n",
              "0                                                  9                               \n",
              "1                                                  8                               \n",
              "2                                                  9                               \n",
              "3                                                  7                               \n",
              "4                                                  9                               \n",
              "\n",
              "  24. Satisfaction level in journey (out of 10) after introducing the scheme   \\\n",
              "0                                                  7                            \n",
              "1                                                  7                            \n",
              "2                                                  0                            \n",
              "3                                                  0                            \n",
              "4                                                  3                            \n",
              "\n",
              "  25. What is your opinion on the Free Bus Scheme introduced in Telangana?  \n",
              "0                                            Neutral                        \n",
              "1                                            Neutral                        \n",
              "2                                             Oppose                        \n",
              "3                                             Oppose                        \n",
              "4                                            Neutral                        \n",
              "\n",
              "[5 rows x 27 columns]"
            ],
            "text/html": [
              "\n",
              "  <div id=\"df-e25fdffa-ec04-4d68-8388-347d5de76cf5\" class=\"colab-df-container\">\n",
              "    <div>\n",
              "<style scoped>\n",
              "    .dataframe tbody tr th:only-of-type {\n",
              "        vertical-align: middle;\n",
              "    }\n",
              "\n",
              "    .dataframe tbody tr th {\n",
              "        vertical-align: top;\n",
              "    }\n",
              "\n",
              "    .dataframe thead th {\n",
              "        text-align: right;\n",
              "    }\n",
              "</style>\n",
              "<table border=\"1\" class=\"dataframe\">\n",
              "  <thead>\n",
              "    <tr style=\"text-align: right;\">\n",
              "      <th></th>\n",
              "      <th>S.NO</th>\n",
              "      <th>Submitted Time</th>\n",
              "      <th>1. Are you a resident of Telangana?</th>\n",
              "      <th>2. Gender</th>\n",
              "      <th>3. Age</th>\n",
              "      <th>4. District</th>\n",
              "      <th>5. Ever travelled in TSRTC buses</th>\n",
              "      <th>6. How frequently you used to travel in state buses before the scheme?\\n</th>\n",
              "      <th>7. How frequently are you travelling after introducing the scheme?</th>\n",
              "      <th>8. What is your primary purpose for travel ?</th>\n",
              "      <th>...</th>\n",
              "      <th>16. Change in cost of pass after scheme introduction:</th>\n",
              "      <th>17. How frequent your family or friends travel in buses using the scheme?</th>\n",
              "      <th>18. Range of distance you travel:</th>\n",
              "      <th>19. How much did you use to spend on travel monthly before the scheme</th>\n",
              "      <th>20. How much money do you estimate to save per month using the scheme?</th>\n",
              "      <th>21. How long did you usually wait for a bus before the scheme ?</th>\n",
              "      <th>22. How long do you usually wait for a bus after the scheme</th>\n",
              "      <th>23. Satisfaction level in journey ( out of 10 ) before introducing the scheme</th>\n",
              "      <th>24. Satisfaction level in journey (out of 10) after introducing the scheme</th>\n",
              "      <th>25. What is your opinion on the Free Bus Scheme introduced in Telangana?</th>\n",
              "    </tr>\n",
              "  </thead>\n",
              "  <tbody>\n",
              "    <tr>\n",
              "      <th>0</th>\n",
              "      <td>1</td>\n",
              "      <td>11-04-2025 12:27:28</td>\n",
              "      <td>Yes</td>\n",
              "      <td>Female</td>\n",
              "      <td>23</td>\n",
              "      <td>Kamareddy</td>\n",
              "      <td>Yes</td>\n",
              "      <td>Weekly</td>\n",
              "      <td>Monthly</td>\n",
              "      <td>Education</td>\n",
              "      <td>...</td>\n",
              "      <td>Don’t know</td>\n",
              "      <td>Monthly</td>\n",
              "      <td>100 km–200 km</td>\n",
              "      <td>No answer</td>\n",
              "      <td>Below ₹500</td>\n",
              "      <td>No answer</td>\n",
              "      <td>No answer</td>\n",
              "      <td>9</td>\n",
              "      <td>7</td>\n",
              "      <td>Neutral</td>\n",
              "    </tr>\n",
              "    <tr>\n",
              "      <th>1</th>\n",
              "      <td>2</td>\n",
              "      <td>11-04-2025 12:32:29</td>\n",
              "      <td>Yes</td>\n",
              "      <td>Female</td>\n",
              "      <td>22</td>\n",
              "      <td>Karimnagar</td>\n",
              "      <td>Yes</td>\n",
              "      <td>Monthly</td>\n",
              "      <td>Monthly</td>\n",
              "      <td>Education</td>\n",
              "      <td>...</td>\n",
              "      <td>Don’t know</td>\n",
              "      <td>Monthly</td>\n",
              "      <td>Below 100 km</td>\n",
              "      <td>No answer</td>\n",
              "      <td>Below ₹500</td>\n",
              "      <td>No answer</td>\n",
              "      <td>No answer</td>\n",
              "      <td>8</td>\n",
              "      <td>7</td>\n",
              "      <td>Neutral</td>\n",
              "    </tr>\n",
              "    <tr>\n",
              "      <th>2</th>\n",
              "      <td>3</td>\n",
              "      <td>14-04-2025 11:31:13</td>\n",
              "      <td>No</td>\n",
              "      <td>Male</td>\n",
              "      <td>25</td>\n",
              "      <td>Nellore</td>\n",
              "      <td>Yes</td>\n",
              "      <td>Sometimes</td>\n",
              "      <td>Sometimes</td>\n",
              "      <td>Social / family visits</td>\n",
              "      <td>...</td>\n",
              "      <td>Don’t know</td>\n",
              "      <td>Weekly</td>\n",
              "      <td>100 km–200 km</td>\n",
              "      <td>Rs.500 - Rs. 1500</td>\n",
              "      <td>Below ₹500</td>\n",
              "      <td>Less than 10 minutes</td>\n",
              "      <td>20-30 minutes</td>\n",
              "      <td>9</td>\n",
              "      <td>0</td>\n",
              "      <td>Oppose</td>\n",
              "    </tr>\n",
              "    <tr>\n",
              "      <th>3</th>\n",
              "      <td>4</td>\n",
              "      <td>14-04-2025 11:31:19</td>\n",
              "      <td>No</td>\n",
              "      <td>Female</td>\n",
              "      <td>21</td>\n",
              "      <td>Nellore</td>\n",
              "      <td>Yes</td>\n",
              "      <td>Monthly</td>\n",
              "      <td>Sometimes</td>\n",
              "      <td>Education</td>\n",
              "      <td>...</td>\n",
              "      <td>Don’t know</td>\n",
              "      <td>Never</td>\n",
              "      <td>Above 200 km</td>\n",
              "      <td>Rs. 1500 - Rs.3000</td>\n",
              "      <td>Below ₹500</td>\n",
              "      <td>20-30 minutes</td>\n",
              "      <td>20-30 minutes</td>\n",
              "      <td>7</td>\n",
              "      <td>0</td>\n",
              "      <td>Oppose</td>\n",
              "    </tr>\n",
              "    <tr>\n",
              "      <th>4</th>\n",
              "      <td>5</td>\n",
              "      <td>14-04-2025 11:33:37</td>\n",
              "      <td>No</td>\n",
              "      <td>Female</td>\n",
              "      <td>23</td>\n",
              "      <td>Karimnagar</td>\n",
              "      <td>Yes</td>\n",
              "      <td>Monthly</td>\n",
              "      <td>Monthly</td>\n",
              "      <td>Education</td>\n",
              "      <td>...</td>\n",
              "      <td>Don’t know</td>\n",
              "      <td>Monthly</td>\n",
              "      <td>100 km–200 km</td>\n",
              "      <td>Below Rs.500</td>\n",
              "      <td>Below ₹500</td>\n",
              "      <td>20-30 minutes</td>\n",
              "      <td>more than 30 minutes</td>\n",
              "      <td>9</td>\n",
              "      <td>3</td>\n",
              "      <td>Neutral</td>\n",
              "    </tr>\n",
              "  </tbody>\n",
              "</table>\n",
              "<p>5 rows × 27 columns</p>\n",
              "</div>\n",
              "    <div class=\"colab-df-buttons\">\n",
              "\n",
              "  <div class=\"colab-df-container\">\n",
              "    <button class=\"colab-df-convert\" onclick=\"convertToInteractive('df-e25fdffa-ec04-4d68-8388-347d5de76cf5')\"\n",
              "            title=\"Convert this dataframe to an interactive table.\"\n",
              "            style=\"display:none;\">\n",
              "\n",
              "  <svg xmlns=\"http://www.w3.org/2000/svg\" height=\"24px\" viewBox=\"0 -960 960 960\">\n",
              "    <path d=\"M120-120v-720h720v720H120Zm60-500h600v-160H180v160Zm220 220h160v-160H400v160Zm0 220h160v-160H400v160ZM180-400h160v-160H180v160Zm440 0h160v-160H620v160ZM180-180h160v-160H180v160Zm440 0h160v-160H620v160Z\"/>\n",
              "  </svg>\n",
              "    </button>\n",
              "\n",
              "  <style>\n",
              "    .colab-df-container {\n",
              "      display:flex;\n",
              "      gap: 12px;\n",
              "    }\n",
              "\n",
              "    .colab-df-convert {\n",
              "      background-color: #E8F0FE;\n",
              "      border: none;\n",
              "      border-radius: 50%;\n",
              "      cursor: pointer;\n",
              "      display: none;\n",
              "      fill: #1967D2;\n",
              "      height: 32px;\n",
              "      padding: 0 0 0 0;\n",
              "      width: 32px;\n",
              "    }\n",
              "\n",
              "    .colab-df-convert:hover {\n",
              "      background-color: #E2EBFA;\n",
              "      box-shadow: 0px 1px 2px rgba(60, 64, 67, 0.3), 0px 1px 3px 1px rgba(60, 64, 67, 0.15);\n",
              "      fill: #174EA6;\n",
              "    }\n",
              "\n",
              "    .colab-df-buttons div {\n",
              "      margin-bottom: 4px;\n",
              "    }\n",
              "\n",
              "    [theme=dark] .colab-df-convert {\n",
              "      background-color: #3B4455;\n",
              "      fill: #D2E3FC;\n",
              "    }\n",
              "\n",
              "    [theme=dark] .colab-df-convert:hover {\n",
              "      background-color: #434B5C;\n",
              "      box-shadow: 0px 1px 3px 1px rgba(0, 0, 0, 0.15);\n",
              "      filter: drop-shadow(0px 1px 2px rgba(0, 0, 0, 0.3));\n",
              "      fill: #FFFFFF;\n",
              "    }\n",
              "  </style>\n",
              "\n",
              "    <script>\n",
              "      const buttonEl =\n",
              "        document.querySelector('#df-e25fdffa-ec04-4d68-8388-347d5de76cf5 button.colab-df-convert');\n",
              "      buttonEl.style.display =\n",
              "        google.colab.kernel.accessAllowed ? 'block' : 'none';\n",
              "\n",
              "      async function convertToInteractive(key) {\n",
              "        const element = document.querySelector('#df-e25fdffa-ec04-4d68-8388-347d5de76cf5');\n",
              "        const dataTable =\n",
              "          await google.colab.kernel.invokeFunction('convertToInteractive',\n",
              "                                                    [key], {});\n",
              "        if (!dataTable) return;\n",
              "\n",
              "        const docLinkHtml = 'Like what you see? Visit the ' +\n",
              "          '<a target=\"_blank\" href=https://colab.research.google.com/notebooks/data_table.ipynb>data table notebook</a>'\n",
              "          + ' to learn more about interactive tables.';\n",
              "        element.innerHTML = '';\n",
              "        dataTable['output_type'] = 'display_data';\n",
              "        await google.colab.output.renderOutput(dataTable, element);\n",
              "        const docLink = document.createElement('div');\n",
              "        docLink.innerHTML = docLinkHtml;\n",
              "        element.appendChild(docLink);\n",
              "      }\n",
              "    </script>\n",
              "  </div>\n",
              "\n",
              "\n",
              "    <div id=\"df-c9323fb4-e2c4-4757-be68-bd096712a062\">\n",
              "      <button class=\"colab-df-quickchart\" onclick=\"quickchart('df-c9323fb4-e2c4-4757-be68-bd096712a062')\"\n",
              "                title=\"Suggest charts\"\n",
              "                style=\"display:none;\">\n",
              "\n",
              "<svg xmlns=\"http://www.w3.org/2000/svg\" height=\"24px\"viewBox=\"0 0 24 24\"\n",
              "     width=\"24px\">\n",
              "    <g>\n",
              "        <path d=\"M19 3H5c-1.1 0-2 .9-2 2v14c0 1.1.9 2 2 2h14c1.1 0 2-.9 2-2V5c0-1.1-.9-2-2-2zM9 17H7v-7h2v7zm4 0h-2V7h2v10zm4 0h-2v-4h2v4z\"/>\n",
              "    </g>\n",
              "</svg>\n",
              "      </button>\n",
              "\n",
              "<style>\n",
              "  .colab-df-quickchart {\n",
              "      --bg-color: #E8F0FE;\n",
              "      --fill-color: #1967D2;\n",
              "      --hover-bg-color: #E2EBFA;\n",
              "      --hover-fill-color: #174EA6;\n",
              "      --disabled-fill-color: #AAA;\n",
              "      --disabled-bg-color: #DDD;\n",
              "  }\n",
              "\n",
              "  [theme=dark] .colab-df-quickchart {\n",
              "      --bg-color: #3B4455;\n",
              "      --fill-color: #D2E3FC;\n",
              "      --hover-bg-color: #434B5C;\n",
              "      --hover-fill-color: #FFFFFF;\n",
              "      --disabled-bg-color: #3B4455;\n",
              "      --disabled-fill-color: #666;\n",
              "  }\n",
              "\n",
              "  .colab-df-quickchart {\n",
              "    background-color: var(--bg-color);\n",
              "    border: none;\n",
              "    border-radius: 50%;\n",
              "    cursor: pointer;\n",
              "    display: none;\n",
              "    fill: var(--fill-color);\n",
              "    height: 32px;\n",
              "    padding: 0;\n",
              "    width: 32px;\n",
              "  }\n",
              "\n",
              "  .colab-df-quickchart:hover {\n",
              "    background-color: var(--hover-bg-color);\n",
              "    box-shadow: 0 1px 2px rgba(60, 64, 67, 0.3), 0 1px 3px 1px rgba(60, 64, 67, 0.15);\n",
              "    fill: var(--button-hover-fill-color);\n",
              "  }\n",
              "\n",
              "  .colab-df-quickchart-complete:disabled,\n",
              "  .colab-df-quickchart-complete:disabled:hover {\n",
              "    background-color: var(--disabled-bg-color);\n",
              "    fill: var(--disabled-fill-color);\n",
              "    box-shadow: none;\n",
              "  }\n",
              "\n",
              "  .colab-df-spinner {\n",
              "    border: 2px solid var(--fill-color);\n",
              "    border-color: transparent;\n",
              "    border-bottom-color: var(--fill-color);\n",
              "    animation:\n",
              "      spin 1s steps(1) infinite;\n",
              "  }\n",
              "\n",
              "  @keyframes spin {\n",
              "    0% {\n",
              "      border-color: transparent;\n",
              "      border-bottom-color: var(--fill-color);\n",
              "      border-left-color: var(--fill-color);\n",
              "    }\n",
              "    20% {\n",
              "      border-color: transparent;\n",
              "      border-left-color: var(--fill-color);\n",
              "      border-top-color: var(--fill-color);\n",
              "    }\n",
              "    30% {\n",
              "      border-color: transparent;\n",
              "      border-left-color: var(--fill-color);\n",
              "      border-top-color: var(--fill-color);\n",
              "      border-right-color: var(--fill-color);\n",
              "    }\n",
              "    40% {\n",
              "      border-color: transparent;\n",
              "      border-right-color: var(--fill-color);\n",
              "      border-top-color: var(--fill-color);\n",
              "    }\n",
              "    60% {\n",
              "      border-color: transparent;\n",
              "      border-right-color: var(--fill-color);\n",
              "    }\n",
              "    80% {\n",
              "      border-color: transparent;\n",
              "      border-right-color: var(--fill-color);\n",
              "      border-bottom-color: var(--fill-color);\n",
              "    }\n",
              "    90% {\n",
              "      border-color: transparent;\n",
              "      border-bottom-color: var(--fill-color);\n",
              "    }\n",
              "  }\n",
              "</style>\n",
              "\n",
              "      <script>\n",
              "        async function quickchart(key) {\n",
              "          const quickchartButtonEl =\n",
              "            document.querySelector('#' + key + ' button');\n",
              "          quickchartButtonEl.disabled = true;  // To prevent multiple clicks.\n",
              "          quickchartButtonEl.classList.add('colab-df-spinner');\n",
              "          try {\n",
              "            const charts = await google.colab.kernel.invokeFunction(\n",
              "                'suggestCharts', [key], {});\n",
              "          } catch (error) {\n",
              "            console.error('Error during call to suggestCharts:', error);\n",
              "          }\n",
              "          quickchartButtonEl.classList.remove('colab-df-spinner');\n",
              "          quickchartButtonEl.classList.add('colab-df-quickchart-complete');\n",
              "        }\n",
              "        (() => {\n",
              "          let quickchartButtonEl =\n",
              "            document.querySelector('#df-c9323fb4-e2c4-4757-be68-bd096712a062 button');\n",
              "          quickchartButtonEl.style.display =\n",
              "            google.colab.kernel.accessAllowed ? 'block' : 'none';\n",
              "        })();\n",
              "      </script>\n",
              "    </div>\n",
              "\n",
              "    </div>\n",
              "  </div>\n"
            ],
            "application/vnd.google.colaboratory.intrinsic+json": {
              "type": "dataframe",
              "variable_name": "df"
            }
          },
          "metadata": {},
          "execution_count": 4
        }
      ]
    },
    {
      "cell_type": "code",
      "source": [
        "df.columns"
      ],
      "metadata": {
        "colab": {
          "base_uri": "https://localhost:8080/"
        },
        "id": "1xJ4M3qNhhKT",
        "outputId": "f9f435b9-516c-4d80-a780-61b2832374ff"
      },
      "execution_count": null,
      "outputs": [
        {
          "output_type": "execute_result",
          "data": {
            "text/plain": [
              "Index(['S.NO', 'Submitted Time', '1. Are you a resident of Telangana?',\n",
              "       '2. Gender', '3. Age ', '4. District ',\n",
              "       '5. Ever travelled in TSRTC buses',\n",
              "       '6. How frequently you used to travel in state buses before the scheme?\\n',\n",
              "       '7. How frequently are you travelling after introducing the scheme?',\n",
              "       '8. What is your primary purpose for travel ?',\n",
              "       '9. Do you mostly travel to the same place or travel to different places?',\n",
              "       '10. How frequent do you cross the district or state borders?',\n",
              "       '11. What was the ticket fare before the scheme?',\n",
              "       '12. Any changes in the ticket fare after introducing the scheme?',\n",
              "       '13. If changed, how much?\\n',\n",
              "       '14. Have you ever applied for any type of bus pass?',\n",
              "       '15. Cost of pass before scheme introduction:\\n',\n",
              "       '16. Change in cost of pass after scheme introduction:',\n",
              "       '17. How frequent your family or friends travel in buses using the scheme?',\n",
              "       '18. Range of distance you travel:',\n",
              "       '19. How much did you use to spend on travel monthly before the scheme',\n",
              "       '20. How much money do you estimate to save per month using the scheme?',\n",
              "       '21. How long did you usually wait for a bus before the scheme ? ',\n",
              "       '22. How long do you usually wait for a bus after the scheme ',\n",
              "       '23. Satisfaction level in journey ( out of 10 ) before introducing the scheme ',\n",
              "       '24. Satisfaction level in journey (out of 10) after introducing the scheme ',\n",
              "       '25. What is your opinion on the Free Bus Scheme introduced in Telangana?'],\n",
              "      dtype='object')"
            ]
          },
          "metadata": {},
          "execution_count": 5
        }
      ]
    },
    {
      "cell_type": "code",
      "source": [
        "df.drop([\"S.NO\",\"Submitted Time\"],axis=1,inplace=True)"
      ],
      "metadata": {
        "id": "6ijuKbv-TQj6"
      },
      "execution_count": null,
      "outputs": []
    },
    {
      "cell_type": "code",
      "source": [
        "df.head()"
      ],
      "metadata": {
        "colab": {
          "base_uri": "https://localhost:8080/",
          "height": 568
        },
        "id": "sAi5j2Okutre",
        "outputId": "0f741542-5df6-4f2f-ee36-4f36d4847b69"
      },
      "execution_count": null,
      "outputs": [
        {
          "output_type": "execute_result",
          "data": {
            "text/plain": [
              "  1. Are you a resident of Telangana? 2. Gender 3. Age  4. District   \\\n",
              "0                                Yes     Female      23    Kamareddy   \n",
              "1                                Yes     Female      22   Karimnagar   \n",
              "2                                  No      Male      25      Nellore   \n",
              "3                                  No    Female      21      Nellore   \n",
              "4                                  No    Female      23   Karimnagar   \n",
              "\n",
              "  5. Ever travelled in TSRTC buses  \\\n",
              "0                             Yes    \n",
              "1                             Yes    \n",
              "2                             Yes    \n",
              "3                             Yes    \n",
              "4                             Yes    \n",
              "\n",
              "  6. How frequently you used to travel in state buses before the scheme?\\n  \\\n",
              "0                                            Weekly                          \n",
              "1                                           Monthly                          \n",
              "2                                         Sometimes                          \n",
              "3                                           Monthly                          \n",
              "4                                           Monthly                          \n",
              "\n",
              "  7. How frequently are you travelling after introducing the scheme?  \\\n",
              "0                                           Monthly                    \n",
              "1                                           Monthly                    \n",
              "2                                         Sometimes                    \n",
              "3                                         Sometimes                    \n",
              "4                                           Monthly                    \n",
              "\n",
              "  8. What is your primary purpose for travel ?  \\\n",
              "0                                   Education    \n",
              "1                                   Education    \n",
              "2                       Social / family visits   \n",
              "3                                   Education    \n",
              "4                                   Education    \n",
              "\n",
              "  9. Do you mostly travel to the same place or travel to different places?  \\\n",
              "0                                              Same                          \n",
              "1                                         Different                          \n",
              "2                                         Different                          \n",
              "3                                         Different                          \n",
              "4                                              Same                          \n",
              "\n",
              "  10. How frequent do you cross the district or state borders?  ...  \\\n",
              "0                                            Yearly             ...   \n",
              "1                                         Sometimes             ...   \n",
              "2                                         Sometimes             ...   \n",
              "3                                           Monthly             ...   \n",
              "4                                           Monthly             ...   \n",
              "\n",
              "  16. Change in cost of pass after scheme introduction:  \\\n",
              "0                                         Don’t know      \n",
              "1                                         Don’t know      \n",
              "2                                         Don’t know      \n",
              "3                                         Don’t know      \n",
              "4                                         Don’t know      \n",
              "\n",
              "  17. How frequent your family or friends travel in buses using the scheme?  \\\n",
              "0                                            Monthly                          \n",
              "1                                            Monthly                          \n",
              "2                                             Weekly                          \n",
              "3                                              Never                          \n",
              "4                                            Monthly                          \n",
              "\n",
              "  18. Range of distance you travel:  \\\n",
              "0                     100 km–200 km   \n",
              "1                      Below 100 km   \n",
              "2                     100 km–200 km   \n",
              "3                      Above 200 km   \n",
              "4                     100 km–200 km   \n",
              "\n",
              "  19. How much did you use to spend on travel monthly before the scheme  \\\n",
              "0                                          No answer                      \n",
              "1                                          No answer                      \n",
              "2                                  Rs.500 - Rs. 1500                      \n",
              "3                                 Rs. 1500 - Rs.3000                      \n",
              "4                                       Below Rs.500                      \n",
              "\n",
              "  20. How much money do you estimate to save per month using the scheme?  \\\n",
              "0                                         Below ₹500                       \n",
              "1                                         Below ₹500                       \n",
              "2                                         Below ₹500                       \n",
              "3                                         Below ₹500                       \n",
              "4                                         Below ₹500                       \n",
              "\n",
              "  21. How long did you usually wait for a bus before the scheme ?   \\\n",
              "0                                          No answer                 \n",
              "1                                          No answer                 \n",
              "2                              Less than 10 minutes                  \n",
              "3                                      20-30 minutes                 \n",
              "4                                      20-30 minutes                 \n",
              "\n",
              "  22. How long do you usually wait for a bus after the scheme   \\\n",
              "0                                          No answer             \n",
              "1                                          No answer             \n",
              "2                                      20-30 minutes             \n",
              "3                                      20-30 minutes             \n",
              "4                              more than 30 minutes              \n",
              "\n",
              "  23. Satisfaction level in journey ( out of 10 ) before introducing the scheme   \\\n",
              "0                                                  9                               \n",
              "1                                                  8                               \n",
              "2                                                  9                               \n",
              "3                                                  7                               \n",
              "4                                                  9                               \n",
              "\n",
              "  24. Satisfaction level in journey (out of 10) after introducing the scheme   \\\n",
              "0                                                  7                            \n",
              "1                                                  7                            \n",
              "2                                                  0                            \n",
              "3                                                  0                            \n",
              "4                                                  3                            \n",
              "\n",
              "  25. What is your opinion on the Free Bus Scheme introduced in Telangana?  \n",
              "0                                            Neutral                        \n",
              "1                                            Neutral                        \n",
              "2                                             Oppose                        \n",
              "3                                             Oppose                        \n",
              "4                                            Neutral                        \n",
              "\n",
              "[5 rows x 25 columns]"
            ],
            "text/html": [
              "\n",
              "  <div id=\"df-10ef8a90-2de6-491d-982b-d129239556c3\" class=\"colab-df-container\">\n",
              "    <div>\n",
              "<style scoped>\n",
              "    .dataframe tbody tr th:only-of-type {\n",
              "        vertical-align: middle;\n",
              "    }\n",
              "\n",
              "    .dataframe tbody tr th {\n",
              "        vertical-align: top;\n",
              "    }\n",
              "\n",
              "    .dataframe thead th {\n",
              "        text-align: right;\n",
              "    }\n",
              "</style>\n",
              "<table border=\"1\" class=\"dataframe\">\n",
              "  <thead>\n",
              "    <tr style=\"text-align: right;\">\n",
              "      <th></th>\n",
              "      <th>1. Are you a resident of Telangana?</th>\n",
              "      <th>2. Gender</th>\n",
              "      <th>3. Age</th>\n",
              "      <th>4. District</th>\n",
              "      <th>5. Ever travelled in TSRTC buses</th>\n",
              "      <th>6. How frequently you used to travel in state buses before the scheme?\\n</th>\n",
              "      <th>7. How frequently are you travelling after introducing the scheme?</th>\n",
              "      <th>8. What is your primary purpose for travel ?</th>\n",
              "      <th>9. Do you mostly travel to the same place or travel to different places?</th>\n",
              "      <th>10. How frequent do you cross the district or state borders?</th>\n",
              "      <th>...</th>\n",
              "      <th>16. Change in cost of pass after scheme introduction:</th>\n",
              "      <th>17. How frequent your family or friends travel in buses using the scheme?</th>\n",
              "      <th>18. Range of distance you travel:</th>\n",
              "      <th>19. How much did you use to spend on travel monthly before the scheme</th>\n",
              "      <th>20. How much money do you estimate to save per month using the scheme?</th>\n",
              "      <th>21. How long did you usually wait for a bus before the scheme ?</th>\n",
              "      <th>22. How long do you usually wait for a bus after the scheme</th>\n",
              "      <th>23. Satisfaction level in journey ( out of 10 ) before introducing the scheme</th>\n",
              "      <th>24. Satisfaction level in journey (out of 10) after introducing the scheme</th>\n",
              "      <th>25. What is your opinion on the Free Bus Scheme introduced in Telangana?</th>\n",
              "    </tr>\n",
              "  </thead>\n",
              "  <tbody>\n",
              "    <tr>\n",
              "      <th>0</th>\n",
              "      <td>Yes</td>\n",
              "      <td>Female</td>\n",
              "      <td>23</td>\n",
              "      <td>Kamareddy</td>\n",
              "      <td>Yes</td>\n",
              "      <td>Weekly</td>\n",
              "      <td>Monthly</td>\n",
              "      <td>Education</td>\n",
              "      <td>Same</td>\n",
              "      <td>Yearly</td>\n",
              "      <td>...</td>\n",
              "      <td>Don’t know</td>\n",
              "      <td>Monthly</td>\n",
              "      <td>100 km–200 km</td>\n",
              "      <td>No answer</td>\n",
              "      <td>Below ₹500</td>\n",
              "      <td>No answer</td>\n",
              "      <td>No answer</td>\n",
              "      <td>9</td>\n",
              "      <td>7</td>\n",
              "      <td>Neutral</td>\n",
              "    </tr>\n",
              "    <tr>\n",
              "      <th>1</th>\n",
              "      <td>Yes</td>\n",
              "      <td>Female</td>\n",
              "      <td>22</td>\n",
              "      <td>Karimnagar</td>\n",
              "      <td>Yes</td>\n",
              "      <td>Monthly</td>\n",
              "      <td>Monthly</td>\n",
              "      <td>Education</td>\n",
              "      <td>Different</td>\n",
              "      <td>Sometimes</td>\n",
              "      <td>...</td>\n",
              "      <td>Don’t know</td>\n",
              "      <td>Monthly</td>\n",
              "      <td>Below 100 km</td>\n",
              "      <td>No answer</td>\n",
              "      <td>Below ₹500</td>\n",
              "      <td>No answer</td>\n",
              "      <td>No answer</td>\n",
              "      <td>8</td>\n",
              "      <td>7</td>\n",
              "      <td>Neutral</td>\n",
              "    </tr>\n",
              "    <tr>\n",
              "      <th>2</th>\n",
              "      <td>No</td>\n",
              "      <td>Male</td>\n",
              "      <td>25</td>\n",
              "      <td>Nellore</td>\n",
              "      <td>Yes</td>\n",
              "      <td>Sometimes</td>\n",
              "      <td>Sometimes</td>\n",
              "      <td>Social / family visits</td>\n",
              "      <td>Different</td>\n",
              "      <td>Sometimes</td>\n",
              "      <td>...</td>\n",
              "      <td>Don’t know</td>\n",
              "      <td>Weekly</td>\n",
              "      <td>100 km–200 km</td>\n",
              "      <td>Rs.500 - Rs. 1500</td>\n",
              "      <td>Below ₹500</td>\n",
              "      <td>Less than 10 minutes</td>\n",
              "      <td>20-30 minutes</td>\n",
              "      <td>9</td>\n",
              "      <td>0</td>\n",
              "      <td>Oppose</td>\n",
              "    </tr>\n",
              "    <tr>\n",
              "      <th>3</th>\n",
              "      <td>No</td>\n",
              "      <td>Female</td>\n",
              "      <td>21</td>\n",
              "      <td>Nellore</td>\n",
              "      <td>Yes</td>\n",
              "      <td>Monthly</td>\n",
              "      <td>Sometimes</td>\n",
              "      <td>Education</td>\n",
              "      <td>Different</td>\n",
              "      <td>Monthly</td>\n",
              "      <td>...</td>\n",
              "      <td>Don’t know</td>\n",
              "      <td>Never</td>\n",
              "      <td>Above 200 km</td>\n",
              "      <td>Rs. 1500 - Rs.3000</td>\n",
              "      <td>Below ₹500</td>\n",
              "      <td>20-30 minutes</td>\n",
              "      <td>20-30 minutes</td>\n",
              "      <td>7</td>\n",
              "      <td>0</td>\n",
              "      <td>Oppose</td>\n",
              "    </tr>\n",
              "    <tr>\n",
              "      <th>4</th>\n",
              "      <td>No</td>\n",
              "      <td>Female</td>\n",
              "      <td>23</td>\n",
              "      <td>Karimnagar</td>\n",
              "      <td>Yes</td>\n",
              "      <td>Monthly</td>\n",
              "      <td>Monthly</td>\n",
              "      <td>Education</td>\n",
              "      <td>Same</td>\n",
              "      <td>Monthly</td>\n",
              "      <td>...</td>\n",
              "      <td>Don’t know</td>\n",
              "      <td>Monthly</td>\n",
              "      <td>100 km–200 km</td>\n",
              "      <td>Below Rs.500</td>\n",
              "      <td>Below ₹500</td>\n",
              "      <td>20-30 minutes</td>\n",
              "      <td>more than 30 minutes</td>\n",
              "      <td>9</td>\n",
              "      <td>3</td>\n",
              "      <td>Neutral</td>\n",
              "    </tr>\n",
              "  </tbody>\n",
              "</table>\n",
              "<p>5 rows × 25 columns</p>\n",
              "</div>\n",
              "    <div class=\"colab-df-buttons\">\n",
              "\n",
              "  <div class=\"colab-df-container\">\n",
              "    <button class=\"colab-df-convert\" onclick=\"convertToInteractive('df-10ef8a90-2de6-491d-982b-d129239556c3')\"\n",
              "            title=\"Convert this dataframe to an interactive table.\"\n",
              "            style=\"display:none;\">\n",
              "\n",
              "  <svg xmlns=\"http://www.w3.org/2000/svg\" height=\"24px\" viewBox=\"0 -960 960 960\">\n",
              "    <path d=\"M120-120v-720h720v720H120Zm60-500h600v-160H180v160Zm220 220h160v-160H400v160Zm0 220h160v-160H400v160ZM180-400h160v-160H180v160Zm440 0h160v-160H620v160ZM180-180h160v-160H180v160Zm440 0h160v-160H620v160Z\"/>\n",
              "  </svg>\n",
              "    </button>\n",
              "\n",
              "  <style>\n",
              "    .colab-df-container {\n",
              "      display:flex;\n",
              "      gap: 12px;\n",
              "    }\n",
              "\n",
              "    .colab-df-convert {\n",
              "      background-color: #E8F0FE;\n",
              "      border: none;\n",
              "      border-radius: 50%;\n",
              "      cursor: pointer;\n",
              "      display: none;\n",
              "      fill: #1967D2;\n",
              "      height: 32px;\n",
              "      padding: 0 0 0 0;\n",
              "      width: 32px;\n",
              "    }\n",
              "\n",
              "    .colab-df-convert:hover {\n",
              "      background-color: #E2EBFA;\n",
              "      box-shadow: 0px 1px 2px rgba(60, 64, 67, 0.3), 0px 1px 3px 1px rgba(60, 64, 67, 0.15);\n",
              "      fill: #174EA6;\n",
              "    }\n",
              "\n",
              "    .colab-df-buttons div {\n",
              "      margin-bottom: 4px;\n",
              "    }\n",
              "\n",
              "    [theme=dark] .colab-df-convert {\n",
              "      background-color: #3B4455;\n",
              "      fill: #D2E3FC;\n",
              "    }\n",
              "\n",
              "    [theme=dark] .colab-df-convert:hover {\n",
              "      background-color: #434B5C;\n",
              "      box-shadow: 0px 1px 3px 1px rgba(0, 0, 0, 0.15);\n",
              "      filter: drop-shadow(0px 1px 2px rgba(0, 0, 0, 0.3));\n",
              "      fill: #FFFFFF;\n",
              "    }\n",
              "  </style>\n",
              "\n",
              "    <script>\n",
              "      const buttonEl =\n",
              "        document.querySelector('#df-10ef8a90-2de6-491d-982b-d129239556c3 button.colab-df-convert');\n",
              "      buttonEl.style.display =\n",
              "        google.colab.kernel.accessAllowed ? 'block' : 'none';\n",
              "\n",
              "      async function convertToInteractive(key) {\n",
              "        const element = document.querySelector('#df-10ef8a90-2de6-491d-982b-d129239556c3');\n",
              "        const dataTable =\n",
              "          await google.colab.kernel.invokeFunction('convertToInteractive',\n",
              "                                                    [key], {});\n",
              "        if (!dataTable) return;\n",
              "\n",
              "        const docLinkHtml = 'Like what you see? Visit the ' +\n",
              "          '<a target=\"_blank\" href=https://colab.research.google.com/notebooks/data_table.ipynb>data table notebook</a>'\n",
              "          + ' to learn more about interactive tables.';\n",
              "        element.innerHTML = '';\n",
              "        dataTable['output_type'] = 'display_data';\n",
              "        await google.colab.output.renderOutput(dataTable, element);\n",
              "        const docLink = document.createElement('div');\n",
              "        docLink.innerHTML = docLinkHtml;\n",
              "        element.appendChild(docLink);\n",
              "      }\n",
              "    </script>\n",
              "  </div>\n",
              "\n",
              "\n",
              "    <div id=\"df-17c788e7-1cd4-434a-9019-3c9c376ae45e\">\n",
              "      <button class=\"colab-df-quickchart\" onclick=\"quickchart('df-17c788e7-1cd4-434a-9019-3c9c376ae45e')\"\n",
              "                title=\"Suggest charts\"\n",
              "                style=\"display:none;\">\n",
              "\n",
              "<svg xmlns=\"http://www.w3.org/2000/svg\" height=\"24px\"viewBox=\"0 0 24 24\"\n",
              "     width=\"24px\">\n",
              "    <g>\n",
              "        <path d=\"M19 3H5c-1.1 0-2 .9-2 2v14c0 1.1.9 2 2 2h14c1.1 0 2-.9 2-2V5c0-1.1-.9-2-2-2zM9 17H7v-7h2v7zm4 0h-2V7h2v10zm4 0h-2v-4h2v4z\"/>\n",
              "    </g>\n",
              "</svg>\n",
              "      </button>\n",
              "\n",
              "<style>\n",
              "  .colab-df-quickchart {\n",
              "      --bg-color: #E8F0FE;\n",
              "      --fill-color: #1967D2;\n",
              "      --hover-bg-color: #E2EBFA;\n",
              "      --hover-fill-color: #174EA6;\n",
              "      --disabled-fill-color: #AAA;\n",
              "      --disabled-bg-color: #DDD;\n",
              "  }\n",
              "\n",
              "  [theme=dark] .colab-df-quickchart {\n",
              "      --bg-color: #3B4455;\n",
              "      --fill-color: #D2E3FC;\n",
              "      --hover-bg-color: #434B5C;\n",
              "      --hover-fill-color: #FFFFFF;\n",
              "      --disabled-bg-color: #3B4455;\n",
              "      --disabled-fill-color: #666;\n",
              "  }\n",
              "\n",
              "  .colab-df-quickchart {\n",
              "    background-color: var(--bg-color);\n",
              "    border: none;\n",
              "    border-radius: 50%;\n",
              "    cursor: pointer;\n",
              "    display: none;\n",
              "    fill: var(--fill-color);\n",
              "    height: 32px;\n",
              "    padding: 0;\n",
              "    width: 32px;\n",
              "  }\n",
              "\n",
              "  .colab-df-quickchart:hover {\n",
              "    background-color: var(--hover-bg-color);\n",
              "    box-shadow: 0 1px 2px rgba(60, 64, 67, 0.3), 0 1px 3px 1px rgba(60, 64, 67, 0.15);\n",
              "    fill: var(--button-hover-fill-color);\n",
              "  }\n",
              "\n",
              "  .colab-df-quickchart-complete:disabled,\n",
              "  .colab-df-quickchart-complete:disabled:hover {\n",
              "    background-color: var(--disabled-bg-color);\n",
              "    fill: var(--disabled-fill-color);\n",
              "    box-shadow: none;\n",
              "  }\n",
              "\n",
              "  .colab-df-spinner {\n",
              "    border: 2px solid var(--fill-color);\n",
              "    border-color: transparent;\n",
              "    border-bottom-color: var(--fill-color);\n",
              "    animation:\n",
              "      spin 1s steps(1) infinite;\n",
              "  }\n",
              "\n",
              "  @keyframes spin {\n",
              "    0% {\n",
              "      border-color: transparent;\n",
              "      border-bottom-color: var(--fill-color);\n",
              "      border-left-color: var(--fill-color);\n",
              "    }\n",
              "    20% {\n",
              "      border-color: transparent;\n",
              "      border-left-color: var(--fill-color);\n",
              "      border-top-color: var(--fill-color);\n",
              "    }\n",
              "    30% {\n",
              "      border-color: transparent;\n",
              "      border-left-color: var(--fill-color);\n",
              "      border-top-color: var(--fill-color);\n",
              "      border-right-color: var(--fill-color);\n",
              "    }\n",
              "    40% {\n",
              "      border-color: transparent;\n",
              "      border-right-color: var(--fill-color);\n",
              "      border-top-color: var(--fill-color);\n",
              "    }\n",
              "    60% {\n",
              "      border-color: transparent;\n",
              "      border-right-color: var(--fill-color);\n",
              "    }\n",
              "    80% {\n",
              "      border-color: transparent;\n",
              "      border-right-color: var(--fill-color);\n",
              "      border-bottom-color: var(--fill-color);\n",
              "    }\n",
              "    90% {\n",
              "      border-color: transparent;\n",
              "      border-bottom-color: var(--fill-color);\n",
              "    }\n",
              "  }\n",
              "</style>\n",
              "\n",
              "      <script>\n",
              "        async function quickchart(key) {\n",
              "          const quickchartButtonEl =\n",
              "            document.querySelector('#' + key + ' button');\n",
              "          quickchartButtonEl.disabled = true;  // To prevent multiple clicks.\n",
              "          quickchartButtonEl.classList.add('colab-df-spinner');\n",
              "          try {\n",
              "            const charts = await google.colab.kernel.invokeFunction(\n",
              "                'suggestCharts', [key], {});\n",
              "          } catch (error) {\n",
              "            console.error('Error during call to suggestCharts:', error);\n",
              "          }\n",
              "          quickchartButtonEl.classList.remove('colab-df-spinner');\n",
              "          quickchartButtonEl.classList.add('colab-df-quickchart-complete');\n",
              "        }\n",
              "        (() => {\n",
              "          let quickchartButtonEl =\n",
              "            document.querySelector('#df-17c788e7-1cd4-434a-9019-3c9c376ae45e button');\n",
              "          quickchartButtonEl.style.display =\n",
              "            google.colab.kernel.accessAllowed ? 'block' : 'none';\n",
              "        })();\n",
              "      </script>\n",
              "    </div>\n",
              "\n",
              "    </div>\n",
              "  </div>\n"
            ],
            "application/vnd.google.colaboratory.intrinsic+json": {
              "type": "dataframe",
              "variable_name": "df"
            }
          },
          "metadata": {},
          "execution_count": 7
        }
      ]
    },
    {
      "cell_type": "code",
      "source": [
        "# CHANGING THE COLUMN LABELS INTO SHORT LABELS FOR THE CONVENIENCE\n",
        "new_col_names=[\"Resident\",\"Gender\",\"Age\",\"District\",\"Ever_Travelled\",\"FreqBefore\",\"FreqAfter\",\"Purpose\",\"FreqRoute\",\"FreqCross\",\"FareBefore\",\"FareAfter\",\"FareChange\",\"PassApplied\",\"PassBefore\",\"PassChange\",\"Freq_famfrnds\",\"Range\",\"SpentBefore\",\"Savings\",\"WaitBefore\",\"WaitAfter\",\"SatisfactionBefore\",\"SatisfactionAfter\",\"Opinion\"]\n",
        "df.columns=new_col_names"
      ],
      "metadata": {
        "id": "ioY-tc5qNFgE"
      },
      "execution_count": null,
      "outputs": []
    },
    {
      "cell_type": "code",
      "source": [
        "df.columns"
      ],
      "metadata": {
        "colab": {
          "base_uri": "https://localhost:8080/"
        },
        "id": "5wF-lTsNTPTh",
        "outputId": "92c4d3e6-7643-4083-aed2-2030c766118a"
      },
      "execution_count": null,
      "outputs": [
        {
          "output_type": "execute_result",
          "data": {
            "text/plain": [
              "Index(['Resident', 'Gender', 'Age', 'District', 'Ever_Travelled', 'FreqBefore',\n",
              "       'FreqAfter', 'Purpose', 'FreqRoute', 'FreqCross', 'FareBefore',\n",
              "       'FareAfter', 'FareChange', 'PassApplied', 'PassBefore', 'PassChange',\n",
              "       'Freq_famfrnds', 'Range', 'SpentBefore', 'Savings', 'WaitBefore',\n",
              "       'WaitAfter', 'SatisfactionBefore', 'SatisfactionAfter', 'Opinion'],\n",
              "      dtype='object')"
            ]
          },
          "metadata": {},
          "execution_count": 9
        }
      ]
    },
    {
      "cell_type": "code",
      "source": [
        "df[\"Resident\"].value_counts()"
      ],
      "metadata": {
        "id": "Mrcvq61eRq6m",
        "colab": {
          "base_uri": "https://localhost:8080/",
          "height": 178
        },
        "outputId": "5199acb0-89d5-499f-d5ca-e4a10ca45423"
      },
      "execution_count": null,
      "outputs": [
        {
          "output_type": "execute_result",
          "data": {
            "text/plain": [
              "Resident\n",
              "Yes     120\n",
              "No       46\n",
              "Name: count, dtype: int64"
            ],
            "text/html": [
              "<div>\n",
              "<style scoped>\n",
              "    .dataframe tbody tr th:only-of-type {\n",
              "        vertical-align: middle;\n",
              "    }\n",
              "\n",
              "    .dataframe tbody tr th {\n",
              "        vertical-align: top;\n",
              "    }\n",
              "\n",
              "    .dataframe thead th {\n",
              "        text-align: right;\n",
              "    }\n",
              "</style>\n",
              "<table border=\"1\" class=\"dataframe\">\n",
              "  <thead>\n",
              "    <tr style=\"text-align: right;\">\n",
              "      <th></th>\n",
              "      <th>count</th>\n",
              "    </tr>\n",
              "    <tr>\n",
              "      <th>Resident</th>\n",
              "      <th></th>\n",
              "    </tr>\n",
              "  </thead>\n",
              "  <tbody>\n",
              "    <tr>\n",
              "      <th>Yes</th>\n",
              "      <td>120</td>\n",
              "    </tr>\n",
              "    <tr>\n",
              "      <th>No</th>\n",
              "      <td>46</td>\n",
              "    </tr>\n",
              "  </tbody>\n",
              "</table>\n",
              "</div><br><label><b>dtype:</b> int64</label>"
            ]
          },
          "metadata": {},
          "execution_count": 10
        }
      ]
    },
    {
      "cell_type": "code",
      "source": [
        "df[\"District\"].mode()"
      ],
      "metadata": {
        "colab": {
          "base_uri": "https://localhost:8080/",
          "height": 115
        },
        "id": "aBDt51YfUjto",
        "outputId": "ada37bfb-15cd-4c95-ec62-05f4bb1e3def"
      },
      "execution_count": null,
      "outputs": [
        {
          "output_type": "execute_result",
          "data": {
            "text/plain": [
              "0    Nalgonda\n",
              "Name: District, dtype: object"
            ],
            "text/html": [
              "<div>\n",
              "<style scoped>\n",
              "    .dataframe tbody tr th:only-of-type {\n",
              "        vertical-align: middle;\n",
              "    }\n",
              "\n",
              "    .dataframe tbody tr th {\n",
              "        vertical-align: top;\n",
              "    }\n",
              "\n",
              "    .dataframe thead th {\n",
              "        text-align: right;\n",
              "    }\n",
              "</style>\n",
              "<table border=\"1\" class=\"dataframe\">\n",
              "  <thead>\n",
              "    <tr style=\"text-align: right;\">\n",
              "      <th></th>\n",
              "      <th>District</th>\n",
              "    </tr>\n",
              "  </thead>\n",
              "  <tbody>\n",
              "    <tr>\n",
              "      <th>0</th>\n",
              "      <td>Nalgonda</td>\n",
              "    </tr>\n",
              "  </tbody>\n",
              "</table>\n",
              "</div><br><label><b>dtype:</b> object</label>"
            ]
          },
          "metadata": {},
          "execution_count": 100
        }
      ]
    },
    {
      "cell_type": "code",
      "source": [
        "df[\"Gender\"].value_counts()"
      ],
      "metadata": {
        "id": "YZAzG7aIRtzG",
        "colab": {
          "base_uri": "https://localhost:8080/",
          "height": 209
        },
        "outputId": "ff8f32bf-ddbb-49a3-b137-1e49a37e0872"
      },
      "execution_count": null,
      "outputs": [
        {
          "output_type": "execute_result",
          "data": {
            "text/plain": [
              "Gender\n",
              "Male      91\n",
              "Female    74\n",
              "Other      1\n",
              "Name: count, dtype: int64"
            ],
            "text/html": [
              "<div>\n",
              "<style scoped>\n",
              "    .dataframe tbody tr th:only-of-type {\n",
              "        vertical-align: middle;\n",
              "    }\n",
              "\n",
              "    .dataframe tbody tr th {\n",
              "        vertical-align: top;\n",
              "    }\n",
              "\n",
              "    .dataframe thead th {\n",
              "        text-align: right;\n",
              "    }\n",
              "</style>\n",
              "<table border=\"1\" class=\"dataframe\">\n",
              "  <thead>\n",
              "    <tr style=\"text-align: right;\">\n",
              "      <th></th>\n",
              "      <th>count</th>\n",
              "    </tr>\n",
              "    <tr>\n",
              "      <th>Gender</th>\n",
              "      <th></th>\n",
              "    </tr>\n",
              "  </thead>\n",
              "  <tbody>\n",
              "    <tr>\n",
              "      <th>Male</th>\n",
              "      <td>91</td>\n",
              "    </tr>\n",
              "    <tr>\n",
              "      <th>Female</th>\n",
              "      <td>74</td>\n",
              "    </tr>\n",
              "    <tr>\n",
              "      <th>Other</th>\n",
              "      <td>1</td>\n",
              "    </tr>\n",
              "  </tbody>\n",
              "</table>\n",
              "</div><br><label><b>dtype:</b> int64</label>"
            ]
          },
          "metadata": {},
          "execution_count": 11
        }
      ]
    },
    {
      "cell_type": "code",
      "source": [
        "# GENDER WISE COUNT BEFORE , AFTER SCHEME\n",
        "# FEMALE\n",
        "gender=df.groupby(\"Gender\")\n",
        "female_before=gender.get_group(\"Female\")[\"FreqBefore\"].value_counts()\n",
        "female_after=gender.get_group(\"Female\")[\"FreqAfter\"].value_counts()"
      ],
      "metadata": {
        "id": "-1GFwnFGRxS5"
      },
      "execution_count": null,
      "outputs": []
    },
    {
      "cell_type": "code",
      "source": [
        "female_before"
      ],
      "metadata": {
        "colab": {
          "base_uri": "https://localhost:8080/",
          "height": 272
        },
        "id": "jH0kGZVR3-vz",
        "outputId": "61a4fe37-a9cd-4284-9e9d-a18144da210b"
      },
      "execution_count": null,
      "outputs": [
        {
          "output_type": "execute_result",
          "data": {
            "text/plain": [
              "FreqBefore\n",
              "Sometimes     30\n",
              "Monthly       15\n",
              "Daily         11\n",
              "Never         11\n",
              "Weekly         7\n",
              "Name: count, dtype: int64"
            ],
            "text/html": [
              "<div>\n",
              "<style scoped>\n",
              "    .dataframe tbody tr th:only-of-type {\n",
              "        vertical-align: middle;\n",
              "    }\n",
              "\n",
              "    .dataframe tbody tr th {\n",
              "        vertical-align: top;\n",
              "    }\n",
              "\n",
              "    .dataframe thead th {\n",
              "        text-align: right;\n",
              "    }\n",
              "</style>\n",
              "<table border=\"1\" class=\"dataframe\">\n",
              "  <thead>\n",
              "    <tr style=\"text-align: right;\">\n",
              "      <th></th>\n",
              "      <th>count</th>\n",
              "    </tr>\n",
              "    <tr>\n",
              "      <th>FreqBefore</th>\n",
              "      <th></th>\n",
              "    </tr>\n",
              "  </thead>\n",
              "  <tbody>\n",
              "    <tr>\n",
              "      <th>Sometimes</th>\n",
              "      <td>30</td>\n",
              "    </tr>\n",
              "    <tr>\n",
              "      <th>Monthly</th>\n",
              "      <td>15</td>\n",
              "    </tr>\n",
              "    <tr>\n",
              "      <th>Daily</th>\n",
              "      <td>11</td>\n",
              "    </tr>\n",
              "    <tr>\n",
              "      <th>Never</th>\n",
              "      <td>11</td>\n",
              "    </tr>\n",
              "    <tr>\n",
              "      <th>Weekly</th>\n",
              "      <td>7</td>\n",
              "    </tr>\n",
              "  </tbody>\n",
              "</table>\n",
              "</div><br><label><b>dtype:</b> int64</label>"
            ]
          },
          "metadata": {},
          "execution_count": 63
        }
      ]
    },
    {
      "cell_type": "code",
      "source": [
        "female_after"
      ],
      "metadata": {
        "colab": {
          "base_uri": "https://localhost:8080/",
          "height": 272
        },
        "id": "vz941vUm7mkL",
        "outputId": "7ef59d2a-120d-4ffe-817e-227afad8925f"
      },
      "execution_count": null,
      "outputs": [
        {
          "output_type": "execute_result",
          "data": {
            "text/plain": [
              "FreqAfter\n",
              "Sometimes     31\n",
              "Monthly       13\n",
              "Daily         11\n",
              "Weekly        10\n",
              "Never          9\n",
              "Name: count, dtype: int64"
            ],
            "text/html": [
              "<div>\n",
              "<style scoped>\n",
              "    .dataframe tbody tr th:only-of-type {\n",
              "        vertical-align: middle;\n",
              "    }\n",
              "\n",
              "    .dataframe tbody tr th {\n",
              "        vertical-align: top;\n",
              "    }\n",
              "\n",
              "    .dataframe thead th {\n",
              "        text-align: right;\n",
              "    }\n",
              "</style>\n",
              "<table border=\"1\" class=\"dataframe\">\n",
              "  <thead>\n",
              "    <tr style=\"text-align: right;\">\n",
              "      <th></th>\n",
              "      <th>count</th>\n",
              "    </tr>\n",
              "    <tr>\n",
              "      <th>FreqAfter</th>\n",
              "      <th></th>\n",
              "    </tr>\n",
              "  </thead>\n",
              "  <tbody>\n",
              "    <tr>\n",
              "      <th>Sometimes</th>\n",
              "      <td>31</td>\n",
              "    </tr>\n",
              "    <tr>\n",
              "      <th>Monthly</th>\n",
              "      <td>13</td>\n",
              "    </tr>\n",
              "    <tr>\n",
              "      <th>Daily</th>\n",
              "      <td>11</td>\n",
              "    </tr>\n",
              "    <tr>\n",
              "      <th>Weekly</th>\n",
              "      <td>10</td>\n",
              "    </tr>\n",
              "    <tr>\n",
              "      <th>Never</th>\n",
              "      <td>9</td>\n",
              "    </tr>\n",
              "  </tbody>\n",
              "</table>\n",
              "</div><br><label><b>dtype:</b> int64</label>"
            ]
          },
          "metadata": {},
          "execution_count": 64
        }
      ]
    },
    {
      "cell_type": "code",
      "source": [
        "# MALE\n",
        "male_before=gender.get_group(\"Male\")[\"FreqBefore\"].value_counts()\n",
        "male_after=gender.get_group(\"Male\")[\"FreqAfter\"].value_counts()"
      ],
      "metadata": {
        "id": "91WXMmr67n4V"
      },
      "execution_count": null,
      "outputs": []
    },
    {
      "cell_type": "code",
      "source": [
        "male_before"
      ],
      "metadata": {
        "colab": {
          "base_uri": "https://localhost:8080/",
          "height": 272
        },
        "id": "04G86qHg76KW",
        "outputId": "62fa51c3-61fd-4b3f-e939-361663aac02a"
      },
      "execution_count": null,
      "outputs": [
        {
          "output_type": "execute_result",
          "data": {
            "text/plain": [
              "FreqBefore\n",
              "Sometimes     41\n",
              "Daily         18\n",
              "Monthly       14\n",
              "Weekly        11\n",
              "Never          7\n",
              "Name: count, dtype: int64"
            ],
            "text/html": [
              "<div>\n",
              "<style scoped>\n",
              "    .dataframe tbody tr th:only-of-type {\n",
              "        vertical-align: middle;\n",
              "    }\n",
              "\n",
              "    .dataframe tbody tr th {\n",
              "        vertical-align: top;\n",
              "    }\n",
              "\n",
              "    .dataframe thead th {\n",
              "        text-align: right;\n",
              "    }\n",
              "</style>\n",
              "<table border=\"1\" class=\"dataframe\">\n",
              "  <thead>\n",
              "    <tr style=\"text-align: right;\">\n",
              "      <th></th>\n",
              "      <th>count</th>\n",
              "    </tr>\n",
              "    <tr>\n",
              "      <th>FreqBefore</th>\n",
              "      <th></th>\n",
              "    </tr>\n",
              "  </thead>\n",
              "  <tbody>\n",
              "    <tr>\n",
              "      <th>Sometimes</th>\n",
              "      <td>41</td>\n",
              "    </tr>\n",
              "    <tr>\n",
              "      <th>Daily</th>\n",
              "      <td>18</td>\n",
              "    </tr>\n",
              "    <tr>\n",
              "      <th>Monthly</th>\n",
              "      <td>14</td>\n",
              "    </tr>\n",
              "    <tr>\n",
              "      <th>Weekly</th>\n",
              "      <td>11</td>\n",
              "    </tr>\n",
              "    <tr>\n",
              "      <th>Never</th>\n",
              "      <td>7</td>\n",
              "    </tr>\n",
              "  </tbody>\n",
              "</table>\n",
              "</div><br><label><b>dtype:</b> int64</label>"
            ]
          },
          "metadata": {},
          "execution_count": 71
        }
      ]
    },
    {
      "cell_type": "code",
      "source": [
        "male_after"
      ],
      "metadata": {
        "colab": {
          "base_uri": "https://localhost:8080/",
          "height": 272
        },
        "id": "EY123HUd8cDm",
        "outputId": "efc1ddfd-73f5-4394-aa41-7a6557fdac4b"
      },
      "execution_count": null,
      "outputs": [
        {
          "output_type": "execute_result",
          "data": {
            "text/plain": [
              "FreqAfter\n",
              "Sometimes     38\n",
              "Never         17\n",
              "Weekly        15\n",
              "Monthly       12\n",
              "Daily          9\n",
              "Name: count, dtype: int64"
            ],
            "text/html": [
              "<div>\n",
              "<style scoped>\n",
              "    .dataframe tbody tr th:only-of-type {\n",
              "        vertical-align: middle;\n",
              "    }\n",
              "\n",
              "    .dataframe tbody tr th {\n",
              "        vertical-align: top;\n",
              "    }\n",
              "\n",
              "    .dataframe thead th {\n",
              "        text-align: right;\n",
              "    }\n",
              "</style>\n",
              "<table border=\"1\" class=\"dataframe\">\n",
              "  <thead>\n",
              "    <tr style=\"text-align: right;\">\n",
              "      <th></th>\n",
              "      <th>count</th>\n",
              "    </tr>\n",
              "    <tr>\n",
              "      <th>FreqAfter</th>\n",
              "      <th></th>\n",
              "    </tr>\n",
              "  </thead>\n",
              "  <tbody>\n",
              "    <tr>\n",
              "      <th>Sometimes</th>\n",
              "      <td>38</td>\n",
              "    </tr>\n",
              "    <tr>\n",
              "      <th>Never</th>\n",
              "      <td>17</td>\n",
              "    </tr>\n",
              "    <tr>\n",
              "      <th>Weekly</th>\n",
              "      <td>15</td>\n",
              "    </tr>\n",
              "    <tr>\n",
              "      <th>Monthly</th>\n",
              "      <td>12</td>\n",
              "    </tr>\n",
              "    <tr>\n",
              "      <th>Daily</th>\n",
              "      <td>9</td>\n",
              "    </tr>\n",
              "  </tbody>\n",
              "</table>\n",
              "</div><br><label><b>dtype:</b> int64</label>"
            ]
          },
          "metadata": {},
          "execution_count": 72
        }
      ]
    },
    {
      "cell_type": "code",
      "source": [
        "# VISUALIZING THE FREQUENCY PATTERN BASED ON GENDER BEFORE , AFTER SCHEME\n",
        "# IMPORTING REQUIRED LIBRARIES\n",
        "import matplotlib.pyplot as plt\n",
        "import seaborn as sns"
      ],
      "metadata": {
        "id": "AvQWSWyZ8dUW"
      },
      "execution_count": null,
      "outputs": []
    },
    {
      "cell_type": "code",
      "source": [
        "gend=df[\"Gender\"].value_counts()\n",
        "plt.pie(gend.values,labels=gend.index,autopct=\"%0.2f%%\")"
      ],
      "metadata": {
        "colab": {
          "base_uri": "https://localhost:8080/",
          "height": 562
        },
        "id": "-9bWz06lBvqX",
        "outputId": "f40931b8-6f69-4aae-80bf-40930da1f51e"
      },
      "execution_count": null,
      "outputs": [
        {
          "output_type": "execute_result",
          "data": {
            "text/plain": [
              "([<matplotlib.patches.Wedge at 0x7aead8a43610>,\n",
              "  <matplotlib.patches.Wedge at 0x7aead8ae7d10>,\n",
              "  <matplotlib.patches.Wedge at 0x7aead8b02ed0>],\n",
              " [Text(-0.1659068399020082, 1.0874166269069687, 'Male'),\n",
              "  Text(0.1452991474509274, -1.0903614803128518, 'Female'),\n",
              "  Text(1.099803019970597, -0.020816274007486306, 'Other')],\n",
              " [Text(-0.09049463994654992, 0.5931363419492556, '54.82%'),\n",
              "  Text(0.07925408042777858, -0.5947426256251919, '44.58%'),\n",
              "  Text(0.5998925563475983, -0.01135433127681071, '0.60%')])"
            ]
          },
          "metadata": {},
          "execution_count": 15
        },
        {
          "output_type": "display_data",
          "data": {
            "text/plain": [
              "<Figure size 640x480 with 1 Axes>"
            ],
            "image/png": "[encoded data removed]"
          },
          "metadata": {}
        }
      ]
    },
    {
      "cell_type": "code",
      "source": [
        "plt.pie(female_before.values,labels=female_before.index,autopct=\"%0.2f%%\")"
      ],
      "metadata": {
        "colab": {
          "base_uri": "https://localhost:8080/",
          "height": 666
        },
        "id": "Y_m4qay3-jiS",
        "outputId": "33ab2d66-f83c-4054-d4a0-3694b0d3ccc0"
      },
      "execution_count": null,
      "outputs": [
        {
          "output_type": "execute_result",
          "data": {
            "text/plain": [
              "([<matplotlib.patches.Wedge at 0x7e8edecabc10>,\n",
              "  <matplotlib.patches.Wedge at 0x7e8ededad0d0>,\n",
              "  <matplotlib.patches.Wedge at 0x7e8edeb41610>,\n",
              "  <matplotlib.patches.Wedge at 0x7e8edeb41150>,\n",
              "  <matplotlib.patches.Wedge at 0x7e8edeb49550>],\n",
              " [Text(0.3221049907949736, 1.0517834258558034, 'Sometimes '),\n",
              "  Text(-1.0990088564324125, -0.04668547400552926, 'Monthly '),\n",
              "  Text(-0.45309137941603655, -1.002351336557633, 'Daily '),\n",
              "  Text(0.5364645622691744, -0.960315455165303, 'Never'),\n",
              "  Text(1.051783429696867, -0.322104978252582, 'Weekly ')],\n",
              " [Text(0.17569363134271285, 0.5737000504668017, '40.54%'),\n",
              "  Text(-0.5994593762358613, -0.02546480400301596, '20.27%'),\n",
              "  Text(-0.2471407524087472, -0.5467370926677998, '14.86%'),\n",
              "  Text(0.2926170339650042, -0.5238084300901652, '14.86%'),\n",
              "  Text(0.5737000525619272, -0.17569362450140832, '9.46%')])"
            ]
          },
          "metadata": {},
          "execution_count": 89
        },
        {
          "output_type": "display_data",
          "data": {
            "text/plain": [
              "<Figure size 640x480 with 1 Axes>"
            ],
            "image/png": "[encoded data removed]"
          },
          "metadata": {}
        }
      ]
    },
    {
      "cell_type": "code",
      "source": [
        "plt.pie(female_after.values,labels=female_after.index,autopct=\"%0.2f%%\")"
      ],
      "metadata": {
        "colab": {
          "base_uri": "https://localhost:8080/",
          "height": 666
        },
        "id": "vcG7kP2Y-uYF",
        "outputId": "cff32f8d-2573-4264-e934-5569b335d305"
      },
      "execution_count": null,
      "outputs": [
        {
          "output_type": "execute_result",
          "data": {
            "text/plain": [
              "([<matplotlib.patches.Wedge at 0x7e8edecb7bd0>,\n",
              "  <matplotlib.patches.Wedge at 0x7e8edea76290>,\n",
              "  <matplotlib.patches.Wedge at 0x7e8edea77250>,\n",
              "  <matplotlib.patches.Wedge at 0x7e8edea744d0>,\n",
              "  <matplotlib.patches.Wedge at 0x7e8edea63050>],\n",
              " [Text(0.2771758834134229, 1.0645062374894705, 'Sometimes '),\n",
              "  Text(-1.0990088564324125, -0.04668547400552926, 'Monthly '),\n",
              "  Text(-0.5364645393658802, -0.9603154679598543, 'Daily '),\n",
              "  Text(0.4101423491803056, -1.0206778401674352, 'Weekly '),\n",
              "  Text(1.0206779167698847, -0.4101421585478487, 'Never ')],\n",
              " [Text(0.15118684549823067, 0.5806397659033474, '41.89%'),\n",
              "  Text(-0.5994593762358613, -0.02546480400301596, '17.57%'),\n",
              "  Text(-0.2926170214722983, -0.5238084370690114, '14.86%'),\n",
              "  Text(0.22371400864380303, -0.5567333673640555, '13.51%'),\n",
              "  Text(0.5567334091472097, -0.2237139046624629, '12.16%')])"
            ]
          },
          "metadata": {},
          "execution_count": 90
        },
        {
          "output_type": "display_data",
          "data": {
            "text/plain": [
              "<Figure size 640x480 with 1 Axes>"
            ],
            "image/png": "[encoded data removed]"
          },
          "metadata": {}
        }
      ]
    },
    {
      "cell_type": "markdown",
      "source": [
        "# OBSERVATIONS - TRAVEL FREQUENCY OF FEMALE AFTER , BEFORE SCHEME\n",
        "\n",
        "DAILY BASIS IS SAME\n",
        "\n",
        "WEEKLY BASIS IS INCREASED BY 4.05%\n",
        "\n",
        "MONTHLY BASIS IS DECREASED BY 2.7%\n",
        "\n",
        "SOMETIMES HAS INCREASED BY 1.35%"
      ],
      "metadata": {
        "id": "zHzGMXtJ-FPb"
      }
    },
    {
      "cell_type": "markdown",
      "source": [
        "FEMALE FREQUENCY HAS INCREASED BY - 5.4% , DECREASED - 2.7%"
      ],
      "metadata": {
        "id": "HiawkkgL_xRZ"
      }
    },
    {
      "cell_type": "code",
      "source": [
        "plt.pie(male_before.values,labels=male_before.index,autopct=\"%0.2f%%\")"
      ],
      "metadata": {
        "colab": {
          "base_uri": "https://localhost:8080/",
          "height": 666
        },
        "id": "ee65gM7iAyg8",
        "outputId": "818f765f-89ec-4724-9e84-7960993173c9"
      },
      "execution_count": null,
      "outputs": [
        {
          "output_type": "execute_result",
          "data": {
            "text/plain": [
              "([<matplotlib.patches.Wedge at 0x7e8edec26350>,\n",
              "  <matplotlib.patches.Wedge at 0x7e8ede977190>,\n",
              "  <matplotlib.patches.Wedge at 0x7e8ede9810d0>,\n",
              "  <matplotlib.patches.Wedge at 0x7e8ede980750>,\n",
              "  <matplotlib.patches.Wedge at 0x7e8ede990d10>],\n",
              " [Text(0.17020215997666666, 1.086752605121919, 'Sometimes '),\n",
              "  Text(-1.0473293605431548, -0.3363052341910045, 'Daily '),\n",
              "  Text(-0.17020180586771175, -1.0867526605807643, 'Monthly '),\n",
              "  Text(0.7151147539244261, -0.8358294615049218, 'Weekly '),\n",
              "  Text(1.0680360192863438, -0.26324714909563757, 'Never')],\n",
              " [Text(0.09283754180545453, 0.5927741482483193, '45.05%'),\n",
              "  Text(-0.5712705602962662, -0.1834392186496388, '19.78%'),\n",
              "  Text(-0.09283734865511549, -0.5927741784985986, '15.38%'),\n",
              "  Text(0.390062593049687, -0.45590697900268456, '12.09%'),\n",
              "  Text(0.5825651014289147, -0.14358935405216594, '7.69%')])"
            ]
          },
          "metadata": {},
          "execution_count": 91
        },
        {
          "output_type": "display_data",
          "data": {
            "text/plain": [
              "<Figure size 640x480 with 1 Axes>"
            ],
            "image/png": "[encoded data removed]"
          },
          "metadata": {}
        }
      ]
    },
    {
      "cell_type": "code",
      "source": [
        "plt.pie(male_after.values,labels=male_after.index,autopct=\"%0.2f%%\")"
      ],
      "metadata": {
        "colab": {
          "base_uri": "https://localhost:8080/",
          "height": 666
        },
        "id": "DDtNena4A5m_",
        "outputId": "a48a99d4-64ce-4739-b253-dfe5c96111c1"
      },
      "execution_count": null,
      "outputs": [
        {
          "output_type": "execute_result",
          "data": {
            "text/plain": [
              "([<matplotlib.patches.Wedge at 0x7e8edeb0a250>,\n",
              "  <matplotlib.patches.Wedge at 0x7e8ede897b90>,\n",
              "  <matplotlib.patches.Wedge at 0x7e8ede8a59d0>,\n",
              "  <matplotlib.patches.Wedge at 0x7e8ede8a5090>,\n",
              "  <matplotlib.patches.Wedge at 0x7e8ede8b54d0>],\n",
              " [Text(0.28164293795770645, 1.063333087747462, 'Sometimes '),\n",
              "  Text(-1.0973789907627007, -0.07589038564032004, 'Never '),\n",
              "  Text(-0.4253330854472378, -1.0144416032596124, 'Weekly '),\n",
              "  Text(0.560926082335023, -0.9462356631179588, 'Monthly '),\n",
              "  Text(1.0473296091079165, -0.3363044601040238, 'Daily ')],\n",
              " [Text(0.15362342070420348, 0.5799998660440701, '41.76%'),\n",
              "  Text(-0.5985703585978367, -0.041394755803810926, '18.68%'),\n",
              "  Text(-0.2319998647894024, -0.5533317835961522, '16.48%'),\n",
              "  Text(0.3059596812736488, -0.5161285435188866, '13.19%'),\n",
              "  Text(0.5712706958770454, -0.1834387964203766, '9.89%')])"
            ]
          },
          "metadata": {},
          "execution_count": 92
        },
        {
          "output_type": "display_data",
          "data": {
            "text/plain": [
              "<Figure size 640x480 with 1 Axes>"
            ],
            "image/png": "[encoded data removed]"
          },
          "metadata": {}
        }
      ]
    },
    {
      "cell_type": "markdown",
      "source": [
        "# OBSERVATIONS -\n",
        "\n",
        "DAILY BASIS WAS DECREASED BY 9.89%\n",
        "\n",
        "WEEKLY BASIS WAS INCREASED BY 4.39%\n",
        "\n",
        "MONTHLY BASIS WAS DECREASED BY 2.19%\n",
        "\n",
        "SOMETIMES WAS DECREASED BY 3.29%\n",
        "\n",
        "\n",
        "\n",
        "MALE TRAVEL FREQUENCY HAS INCREASED BY 4.395 , DECREASED BY 15.37%"
      ],
      "metadata": {
        "id": "EK5_iw4l-jyH"
      }
    },
    {
      "cell_type": "code",
      "source": [
        "sns.set_style(\"whitegrid\")\n",
        "sns.countplot(df,x=\"FreqBefore\",hue=\"Gender\")\n",
        "plt.title(\"Frequency of travelling before the scheme\")"
      ],
      "metadata": {
        "colab": {
          "base_uri": "https://localhost:8080/",
          "height": 489
        },
        "id": "8jqyrd5oA-5V",
        "outputId": "8a6bb75a-51f0-45e5-9ea5-1988641a33bd"
      },
      "execution_count": null,
      "outputs": [
        {
          "output_type": "execute_result",
          "data": {
            "text/plain": [
              "Text(0.5, 1.0, 'Frequency of travelling before the scheme')"
            ]
          },
          "metadata": {},
          "execution_count": 36
        },
        {
          "output_type": "display_data",
          "data": {
            "text/plain": [
              "<Figure size 640x480 with 1 Axes>"
            ],
            "image/png": "[encoded data removed]"
          },
          "metadata": {}
        }
      ]
    },
    {
      "cell_type": "code",
      "source": [
        "sns.set_style(\"whitegrid\")\n",
        "sns.countplot(df,x=\"FreqAfter\",hue=\"Gender\",)\n",
        "plt.title(\"Frequency of travelling after the scheme\")"
      ],
      "metadata": {
        "colab": {
          "base_uri": "https://localhost:8080/",
          "height": 489
        },
        "id": "gcPTB68DBdWU",
        "outputId": "c8d76fdc-04cd-4209-b861-69d1c932e020"
      },
      "execution_count": null,
      "outputs": [
        {
          "output_type": "execute_result",
          "data": {
            "text/plain": [
              "Text(0.5, 1.0, 'Frequency of travelling after the scheme')"
            ]
          },
          "metadata": {},
          "execution_count": 35
        },
        {
          "output_type": "display_data",
          "data": {
            "text/plain": [
              "<Figure size 640x480 with 1 Axes>"
            ],
            "image/png": "[encoded data removed]"
          },
          "metadata": {}
        }
      ]
    },
    {
      "cell_type": "markdown",
      "source": [
        "# OBSERVATIONS - FREQUENCIES BEFORE AND AFTER SCHEME BASED ON GENDER -\n",
        "\n",
        "MALE WHO TRAVEL DAILY WAS DECREASED AFTER SCHEME AND FEMALE WAS SAME\n",
        "\n",
        "WEEKLY BASIS JOURNEY OF BOTH MALE , FEMALE HAS INCREASED\n",
        "\n",
        "MONTHLY BASIS JOURNEY OF BOTH HAS DECREASED\n",
        "\n",
        "MALE WHO TRAVEL SOMETIMES HAS DECREASED AND FEMALE WAS SAME"
      ],
      "metadata": {
        "id": "6IQz440Q8r-k"
      }
    },
    {
      "cell_type": "markdown",
      "source": [
        "# AFTER SCHEME EFFECT -\n",
        "**INCREASED - 9.7% AND DECREASED - 18.07%**"
      ],
      "metadata": {
        "id": "Ttn_S2TuAjJm"
      }
    },
    {
      "cell_type": "code",
      "source": [
        "def age_category(age):\n",
        "  if int(age) < 18:\n",
        "    return 'Below 18'\n",
        "  elif 18 <= int(age) <= 24:\n",
        "    return '18-24'\n",
        "  elif 24 <= int(age) <= 30:\n",
        "    return '24-30'\n",
        "  elif  31 <= int(age) <= 40:\n",
        "    return \"31-40\"\n",
        "  else:\n",
        "    return '40+'\n",
        "\n",
        "df['Age_category'] = df['Age'].apply(age_category)\n",
        "df[\"Age_category\"]"
      ],
      "metadata": {
        "colab": {
          "base_uri": "https://localhost:8080/",
          "height": 458
        },
        "id": "v3ohcRiOAip2",
        "outputId": "0a4bdc8b-beab-4876-9ab5-f597b481d546"
      },
      "execution_count": null,
      "outputs": [
        {
          "output_type": "execute_result",
          "data": {
            "text/plain": [
              "0      18-24\n",
              "1      18-24\n",
              "2      24-30\n",
              "3      18-24\n",
              "4      18-24\n",
              "       ...  \n",
              "161    18-24\n",
              "162    24-30\n",
              "163    18-24\n",
              "164    18-24\n",
              "165    18-24\n",
              "Name: Age_category, Length: 166, dtype: object"
            ],
            "text/html": [
              "<div>\n",
              "<style scoped>\n",
              "    .dataframe tbody tr th:only-of-type {\n",
              "        vertical-align: middle;\n",
              "    }\n",
              "\n",
              "    .dataframe tbody tr th {\n",
              "        vertical-align: top;\n",
              "    }\n",
              "\n",
              "    .dataframe thead th {\n",
              "        text-align: right;\n",
              "    }\n",
              "</style>\n",
              "<table border=\"1\" class=\"dataframe\">\n",
              "  <thead>\n",
              "    <tr style=\"text-align: right;\">\n",
              "      <th></th>\n",
              "      <th>Age_category</th>\n",
              "    </tr>\n",
              "  </thead>\n",
              "  <tbody>\n",
              "    <tr>\n",
              "      <th>0</th>\n",
              "      <td>18-24</td>\n",
              "    </tr>\n",
              "    <tr>\n",
              "      <th>1</th>\n",
              "      <td>18-24</td>\n",
              "    </tr>\n",
              "    <tr>\n",
              "      <th>2</th>\n",
              "      <td>24-30</td>\n",
              "    </tr>\n",
              "    <tr>\n",
              "      <th>3</th>\n",
              "      <td>18-24</td>\n",
              "    </tr>\n",
              "    <tr>\n",
              "      <th>4</th>\n",
              "      <td>18-24</td>\n",
              "    </tr>\n",
              "    <tr>\n",
              "      <th>...</th>\n",
              "      <td>...</td>\n",
              "    </tr>\n",
              "    <tr>\n",
              "      <th>161</th>\n",
              "      <td>18-24</td>\n",
              "    </tr>\n",
              "    <tr>\n",
              "      <th>162</th>\n",
              "      <td>24-30</td>\n",
              "    </tr>\n",
              "    <tr>\n",
              "      <th>163</th>\n",
              "      <td>18-24</td>\n",
              "    </tr>\n",
              "    <tr>\n",
              "      <th>164</th>\n",
              "      <td>18-24</td>\n",
              "    </tr>\n",
              "    <tr>\n",
              "      <th>165</th>\n",
              "      <td>18-24</td>\n",
              "    </tr>\n",
              "  </tbody>\n",
              "</table>\n",
              "<p>166 rows × 1 columns</p>\n",
              "</div><br><label><b>dtype:</b> object</label>"
            ]
          },
          "metadata": {},
          "execution_count": 30
        }
      ]
    },
    {
      "cell_type": "code",
      "source": [
        "age=df[\"Age_category\"].value_counts()\n",
        "age"
      ],
      "metadata": {
        "colab": {
          "base_uri": "https://localhost:8080/",
          "height": 241
        },
        "id": "SLeThWe1E4uW",
        "outputId": "05bf9a2b-573a-4f0d-d152-85c77f3e3e71"
      },
      "execution_count": null,
      "outputs": [
        {
          "output_type": "execute_result",
          "data": {
            "text/plain": [
              "Age_category\n",
              "18-24    112\n",
              "24-30     43\n",
              "31-40      9\n",
              "40+        2\n",
              "Name: count, dtype: int64"
            ],
            "text/html": [
              "<div>\n",
              "<style scoped>\n",
              "    .dataframe tbody tr th:only-of-type {\n",
              "        vertical-align: middle;\n",
              "    }\n",
              "\n",
              "    .dataframe tbody tr th {\n",
              "        vertical-align: top;\n",
              "    }\n",
              "\n",
              "    .dataframe thead th {\n",
              "        text-align: right;\n",
              "    }\n",
              "</style>\n",
              "<table border=\"1\" class=\"dataframe\">\n",
              "  <thead>\n",
              "    <tr style=\"text-align: right;\">\n",
              "      <th></th>\n",
              "      <th>count</th>\n",
              "    </tr>\n",
              "    <tr>\n",
              "      <th>Age_category</th>\n",
              "      <th></th>\n",
              "    </tr>\n",
              "  </thead>\n",
              "  <tbody>\n",
              "    <tr>\n",
              "      <th>18-24</th>\n",
              "      <td>112</td>\n",
              "    </tr>\n",
              "    <tr>\n",
              "      <th>24-30</th>\n",
              "      <td>43</td>\n",
              "    </tr>\n",
              "    <tr>\n",
              "      <th>31-40</th>\n",
              "      <td>9</td>\n",
              "    </tr>\n",
              "    <tr>\n",
              "      <th>40+</th>\n",
              "      <td>2</td>\n",
              "    </tr>\n",
              "  </tbody>\n",
              "</table>\n",
              "</div><br><label><b>dtype:</b> int64</label>"
            ]
          },
          "metadata": {},
          "execution_count": 31
        }
      ]
    },
    {
      "cell_type": "code",
      "source": [
        "sns.set_style(\"whitegrid\")\n",
        "sns.barplot(x=age.index,y=age.values,width=0.5)\n",
        "plt.title(\"Travelling age groups \")\n",
        "plt.ylabel(\"count\")"
      ],
      "metadata": {
        "id": "gjZV5IBnBvvS",
        "colab": {
          "base_uri": "https://localhost:8080/",
          "height": 489
        },
        "outputId": "6019ede0-d23f-4778-9112-9c435e5e9444"
      },
      "execution_count": null,
      "outputs": [
        {
          "output_type": "execute_result",
          "data": {
            "text/plain": [
              "Text(0, 0.5, 'count')"
            ]
          },
          "metadata": {},
          "execution_count": 34
        },
        {
          "output_type": "display_data",
          "data": {
            "text/plain": [
              "<Figure size 640x480 with 1 Axes>"
            ],
            "image/png": "[encoded data removed]"
          },
          "metadata": {}
        }
      ]
    },
    {
      "cell_type": "markdown",
      "source": [
        "# OBSERVATIONS -\n",
        "\n",
        "AGE GROUP FROM 18-24 IS HIGHEST AND LEAST WITH 40+"
      ],
      "metadata": {
        "id": "ZiAzkW_DGDmf"
      }
    },
    {
      "cell_type": "code",
      "source": [
        "intent=df[\"Purpose\"].value_counts()\n",
        "sns.set_style(\"whitegrid\")\n",
        "sns.barplot(x=intent.index,y=intent.values)"
      ],
      "metadata": {
        "id": "dNpADmK7enIy",
        "colab": {
          "base_uri": "https://localhost:8080/",
          "height": 466
        },
        "outputId": "1cc74e75-8578-4c12-d246-3faba16ffb2b"
      },
      "execution_count": null,
      "outputs": [
        {
          "output_type": "execute_result",
          "data": {
            "text/plain": [
              "<Axes: xlabel='Purpose'>"
            ]
          },
          "metadata": {},
          "execution_count": 27
        },
        {
          "output_type": "display_data",
          "data": {
            "text/plain": [
              "<Figure size 640x480 with 1 Axes>"
            ],
            "image/png": "[encoded data removed]"
          },
          "metadata": {}
        }
      ]
    },
    {
      "cell_type": "markdown",
      "source": [
        "# OBSERVATION -\n",
        "\n",
        "Education as travelling purpose is the most frequent followed by social /family visits"
      ],
      "metadata": {
        "id": "B_0NyC5lDUh5"
      }
    },
    {
      "cell_type": "code",
      "source": [
        "spent=df[\"SpentBefore\"].value_counts()\n",
        "plt.pie(spent.values,labels=spent.index,autopct=\"%0.2f%%\")"
      ],
      "metadata": {
        "id": "QakGUsy1Euer",
        "colab": {
          "base_uri": "https://localhost:8080/",
          "height": 614
        },
        "outputId": "5256ef68-4a03-4387-9ff2-9b9c5cc97eb8"
      },
      "execution_count": null,
      "outputs": [
        {
          "output_type": "execute_result",
          "data": {
            "text/plain": [
              "([<matplotlib.patches.Wedge at 0x7aeace1c1990>,\n",
              "  <matplotlib.patches.Wedge at 0x7aeace2a5b10>,\n",
              "  <matplotlib.patches.Wedge at 0x7aeace132c10>,\n",
              "  <matplotlib.patches.Wedge at 0x7aeace132590>],\n",
              " [Text(0.3080895155304073, 1.0559738871867235, 'Rs.500 - Rs. 1500'),\n",
              "  Text(-0.8923594222399636, -0.6431909992681479, 'Below Rs.500'),\n",
              "  Text(0.7088370655875417, -0.8411599220417266, 'Rs. 1500 - Rs.3000'),\n",
              "  Text(1.0762500454740767, -0.22734519923905994, 'Above  Rs.3000')],\n",
              " [Text(0.16804882665294943, 0.5759857566473037, '40.96%'),\n",
              "  Text(-0.4867415030399801, -0.35083145414626243, '37.95%'),\n",
              "  Text(0.38663839941138634, -0.4588145029318508, '14.46%'),\n",
              "  Text(0.5870454793494964, -0.12400647231221448, '6.63%')])"
            ]
          },
          "metadata": {},
          "execution_count": 55
        },
        {
          "output_type": "display_data",
          "data": {
            "text/plain": [
              "<Figure size 640x480 with 1 Axes>"
            ],
            "image/png": "[encoded data removed]"
          },
          "metadata": {}
        }
      ]
    },
    {
      "cell_type": "code",
      "source": [
        "saved=df[\"Savings\"].value_counts()\n",
        "plt.pie(saved.values,labels=saved.index,autopct=\"%0.2f%%\")"
      ],
      "metadata": {
        "id": "cK21hZbvem6v",
        "colab": {
          "base_uri": "https://localhost:8080/",
          "height": 614
        },
        "outputId": "0d86f29e-bd58-4ef2-c868-1677fa067715"
      },
      "execution_count": null,
      "outputs": [
        {
          "output_type": "execute_result",
          "data": {
            "text/plain": [
              "([<matplotlib.patches.Wedge at 0x7aeace154f90>,\n",
              "  <matplotlib.patches.Wedge at 0x7aeace154350>,\n",
              "  <matplotlib.patches.Wedge at 0x7aeacf48b150>,\n",
              "  <matplotlib.patches.Wedge at 0x7aeace2514d0>],\n",
              " [Text(-0.041625656229056486, 1.0992121290922423, 'Below ₹500'),\n",
              "  Text(-0.42575533915541797, -1.0142644582063671, '₹500–₹1500'),\n",
              "  Text(0.9274196387201689, -0.5915173824294191, '₹1500–₹3000'),\n",
              "  Text(1.09036157673423, -0.14529842387873176, 'Above ₹3000')],\n",
              " [Text(-0.022704903397667172, 0.5995702522321321, '51.20%'),\n",
              "  Text(-0.23223018499386433, -0.5532351590216547, '34.94%'),\n",
              "  Text(0.5058652574837283, -0.3226458449615013, '9.64%'),\n",
              "  Text(0.5947426782186709, -0.07925368575203551, '4.22%')])"
            ]
          },
          "metadata": {},
          "execution_count": 54
        },
        {
          "output_type": "display_data",
          "data": {
            "text/plain": [
              "<Figure size 640x480 with 1 Axes>"
            ],
            "image/png": "[encoded data removed]"
          },
          "metadata": {}
        }
      ]
    },
    {
      "cell_type": "markdown",
      "source": [
        "# SPENT\n",
        "  <500 -------> 37.96\n",
        "\n",
        " 500-1500 --------> 40.96\n",
        "\n",
        " 1500-3000 -------> 14.46\n",
        " >3000 ----------> 6.63\n",
        "\n",
        "# OBSERVATION - PEOPLE SPENDING BETWEEN 500-1500 ARE MORE WITH 40.9%\n",
        "\n",
        "# SAVED\n",
        "\n",
        "<500 -----> 51.20\n",
        "\n",
        "500-1500 ----> 34.94\n",
        "\n",
        "1500-3000 -----> 9.64\n",
        "\n",
        ">3000 -------> 4.22\n",
        "\n",
        "\n",
        "# OBSERVATION - SAVINGS BELOW 500 ARE HIGHEST FOLLOWED BY REMAINING"
      ],
      "metadata": {
        "id": "JlJ6DH0OI90A"
      }
    },
    {
      "cell_type": "code",
      "source": [
        "!pip install squarify==0.4.3"
      ],
      "metadata": {
        "id": "mQU4MannExmk",
        "colab": {
          "base_uri": "https://localhost:8080/"
        },
        "outputId": "5cdd5722-4318-49bd-c57e-79f184bd0a71"
      },
      "execution_count": null,
      "outputs": [
        {
          "output_type": "stream",
          "name": "stdout",
          "text": [
            "Collecting squarify==0.4.3\n",
            "  Downloading squarify-0.4.3-py3-none-any.whl.metadata (540 bytes)\n",
            "Downloading squarify-0.4.3-py3-none-any.whl (4.3 kB)\n",
            "Installing collected packages: squarify\n",
            "Successfully installed squarify-0.4.3\n"
          ]
        }
      ]
    },
    {
      "cell_type": "code",
      "source": [
        "import squarify\n",
        "import matplotlib.pyplot as plt\n",
        "\n",
        "squarify.plot(sizes=spent.values, label=spent.index, alpha=0.7)\n",
        "plt.axis('off')\n",
        "plt.title(\"proportion of money spent before scheme\")\n",
        "plt.show()"
      ],
      "metadata": {
        "id": "wtWMTYCjmYnQ",
        "colab": {
          "base_uri": "https://localhost:8080/",
          "height": 428
        },
        "outputId": "13510830-c989-48e8-adca-78eba74002b2"
      },
      "execution_count": null,
      "outputs": [
        {
          "output_type": "display_data",
          "data": {
            "text/plain": [
              "<Figure size 640x480 with 1 Axes>"
            ],
            "image/png": "[encoded data removed]"
          },
          "metadata": {}
        }
      ]
    },
    {
      "cell_type": "code",
      "source": [
        "squarify.plot(sizes=saved.values, label=saved.index, alpha=0.7)\n",
        "plt.axis(\"off\")\n",
        "plt.title(\"proportion of money saved after scheme\")\n",
        "plt.show()"
      ],
      "metadata": {
        "id": "fgY_jQS_mYW8",
        "colab": {
          "base_uri": "https://localhost:8080/",
          "height": 428
        },
        "outputId": "2e350577-e4c6-4cd5-8973-11af7c82d425"
      },
      "execution_count": null,
      "outputs": [
        {
          "output_type": "display_data",
          "data": {
            "text/plain": [
              "<Figure size 640x480 with 1 Axes>"
            ],
            "image/png": "[encoded data removed]"
          },
          "metadata": {}
        }
      ]
    },
    {
      "cell_type": "code",
      "source": [
        "waitbefore=df[\"WaitBefore\"].value_counts()\n",
        "sizes = waitbefore.values\n",
        "labels = [f\"{label}\\n({size})\" for label, size in zip(waitbefore.index, sizes)]\n",
        "squarify.plot(sizes=sizes, label=labels, alpha=0.7)\n",
        "plt.axis(\"off\")\n",
        "plt.title(\"proportion of wait before scheme\")\n",
        "plt.show()"
      ],
      "metadata": {
        "colab": {
          "base_uri": "https://localhost:8080/",
          "height": 428
        },
        "id": "M8pjlkkONeZW",
        "outputId": "1426b147-43d8-4307-cac6-534b16668c91"
      },
      "execution_count": null,
      "outputs": [
        {
          "output_type": "display_data",
          "data": {
            "text/plain": [
              "<Figure size 640x480 with 1 Axes>"
            ],
            "image/png": "[encoded data removed]"
          },
          "metadata": {}
        }
      ]
    },
    {
      "cell_type": "code",
      "source": [
        "waitafter=df[\"WaitAfter\"].value_counts()\n",
        "sizes = waitafter.values\n",
        "labels = [f\"{label}\\n({size})\" for label, size in zip(waitafter.index, sizes)]\n",
        "squarify.plot(sizes=sizes, label=labels, alpha=0.7)\n",
        "plt.axis(\"off\")\n",
        "plt.title(\"proportion of wait after scheme\")\n",
        "plt.show()"
      ],
      "metadata": {
        "colab": {
          "base_uri": "https://localhost:8080/",
          "height": 428
        },
        "id": "5t67ilyqPbpH",
        "outputId": "b18f6c1a-2117-48b7-c271-5845cc9ee755"
      },
      "execution_count": null,
      "outputs": [
        {
          "output_type": "display_data",
          "data": {
            "text/plain": [
              "<Figure size 640x480 with 1 Axes>"
            ],
            "image/png": "[encoded data removed]"
          },
          "metadata": {}
        }
      ]
    },
    {
      "cell_type": "markdown",
      "source": [
        "# OBSERVATIONS -\n",
        "\n",
        "LESS THAN 10 - 50 BECAME 28 ----> DECREASED AVAILABILTY\n",
        "\n",
        "10-20 MINUTES - 63 BECAME 48 ----> DECREASED\n",
        "\n",
        "20-30 MINUTES - 29 BECAME 36  ----> INCREASED\n",
        "\n",
        "MORE THAN 30 - 24 BECAME 54 -----> INCREASED\n",
        "\n",
        "The scheme has seemingly shifted bus availability, with fewer experiencing short waits (<10-20 mins) and more facing longer waits (20-30+ mins), suggesting a potential trade-off in accessibility."
      ],
      "metadata": {
        "id": "GD7grBoCRqZi"
      }
    },
    {
      "cell_type": "markdown",
      "source": [
        "# CHANGE IN BUS FARE AFTER SCHEME INTRODUCTION\n"
      ],
      "metadata": {
        "id": "J0dtjk6vxKua"
      }
    },
    {
      "cell_type": "code",
      "source": [
        "farebefore=df[\"FareBefore\"].value_counts()\n",
        "sns.barplot(x=farebefore.index,y=farebefore.values)"
      ],
      "metadata": {
        "colab": {
          "base_uri": "https://localhost:8080/",
          "height": 499
        },
        "id": "zaPF2Rb_pVLG",
        "outputId": "2fc27277-ae18-434b-e906-eb84d2bf7b24"
      },
      "execution_count": null,
      "outputs": [
        {
          "output_type": "execute_result",
          "data": {
            "text/plain": [
              "<Axes: xlabel='FareBefore'>"
            ]
          },
          "metadata": {},
          "execution_count": 17
        },
        {
          "output_type": "display_data",
          "data": {
            "text/plain": [
              "<Figure size 640x480 with 1 Axes>"
            ],
            "image/png": "[encoded data removed]"
          },
          "metadata": {}
        }
      ]
    },
    {
      "cell_type": "markdown",
      "source": [
        "# OBSERVATION -\n",
        "\n",
        "The highest frequency of travel is observed for fares below 150. Travel frequency gradually less for fares priced between 150-300, 300-500, and above 500.\n",
        "\n"
      ],
      "metadata": {
        "id": "mzOBiUNdq9zN"
      }
    },
    {
      "cell_type": "code",
      "source": [
        "fareafter=df[\"FareAfter\"].value_counts()\n",
        "sns.barplot(x=fareafter.index,y=fareafter.values)"
      ],
      "metadata": {
        "colab": {
          "base_uri": "https://localhost:8080/",
          "height": 466
        },
        "id": "HfR24GpnpU9F",
        "outputId": "5185bd5c-2df3-4601-d6f6-40d866fdd7c4"
      },
      "execution_count": null,
      "outputs": [
        {
          "output_type": "execute_result",
          "data": {
            "text/plain": [
              "<Axes: xlabel='FareAfter'>"
            ]
          },
          "metadata": {},
          "execution_count": 18
        },
        {
          "output_type": "display_data",
          "data": {
            "text/plain": [
              "<Figure size 640x480 with 1 Axes>"
            ],
            "image/png": "[encoded data removed]"
          },
          "metadata": {}
        }
      ]
    },
    {
      "cell_type": "markdown",
      "source": [
        "# OBSERVATION -\n",
        "\n",
        "Most people observe a price change after the scheme, followed by those who are unsure, and a smaller group reporting no change.\n",
        "\n"
      ],
      "metadata": {
        "id": "iBBdCYfar_YD"
      }
    },
    {
      "cell_type": "code",
      "source": [
        "df[\"FareChange\"].unique()"
      ],
      "metadata": {
        "colab": {
          "base_uri": "https://localhost:8080/"
        },
        "id": "c_yGl7IDzSEW",
        "outputId": "5c480956-eba7-4c8f-ec9e-9f5a6418404d"
      },
      "execution_count": null,
      "outputs": [
        {
          "output_type": "execute_result",
          "data": {
            "text/plain": [
              "array([ 90,  50,  20,   0,  70,  60,  30,  80,  10, 100,  40, 120, 150,\n",
              "        75,  25])"
            ]
          },
          "metadata": {},
          "execution_count": 6
        }
      ]
    },
    {
      "cell_type": "code",
      "source": [
        "df[\"FareChange\"]=pd.to_numeric(df[\"FareChange\"])"
      ],
      "metadata": {
        "id": "4o8QPmuEzcoQ"
      },
      "execution_count": null,
      "outputs": []
    },
    {
      "cell_type": "code",
      "source": [
        "sns.boxplot(df[\"FareChange\"])"
      ],
      "metadata": {
        "colab": {
          "base_uri": "https://localhost:8080/",
          "height": 428
        },
        "id": "T5OwFFd5zrJt",
        "outputId": "70c86fe9-c26b-4691-e1c5-15eb15f19ce7"
      },
      "execution_count": null,
      "outputs": [
        {
          "output_type": "execute_result",
          "data": {
            "text/plain": [
              "<Axes: ylabel='FareChange'>"
            ]
          },
          "metadata": {},
          "execution_count": 8
        },
        {
          "output_type": "display_data",
          "data": {
            "text/plain": [
              "<Figure size 640x480 with 1 Axes>"
            ],
            "image/png": "[encoded data removed]"
          },
          "metadata": {}
        }
      ]
    },
    {
      "cell_type": "markdown",
      "source": [
        "# OBSERVATION -\n",
        "\n",
        "THE FARE CHANGES RANGES BETWEEN 0-120 AND THE HIGHEST CHANGE INCLUDES 150 MARKING IT AS AN OUTLIER\n"
      ],
      "metadata": {
        "id": "fbbgUCiK2ngO"
      }
    },
    {
      "cell_type": "code",
      "source": [
        "range=df[\"Range\"].value_counts()\n",
        "range"
      ],
      "metadata": {
        "colab": {
          "base_uri": "https://localhost:8080/",
          "height": 209
        },
        "id": "v3FlC8XTyXWC",
        "outputId": "98df73d2-2588-44fc-8916-10b1ead0cf11"
      },
      "execution_count": null,
      "outputs": [
        {
          "output_type": "execute_result",
          "data": {
            "text/plain": [
              "Range\n",
              "Below 100 km     73\n",
              "Above 200 km     48\n",
              "100 km–200 km    45\n",
              "Name: count, dtype: int64"
            ],
            "text/html": [
              "<div>\n",
              "<style scoped>\n",
              "    .dataframe tbody tr th:only-of-type {\n",
              "        vertical-align: middle;\n",
              "    }\n",
              "\n",
              "    .dataframe tbody tr th {\n",
              "        vertical-align: top;\n",
              "    }\n",
              "\n",
              "    .dataframe thead th {\n",
              "        text-align: right;\n",
              "    }\n",
              "</style>\n",
              "<table border=\"1\" class=\"dataframe\">\n",
              "  <thead>\n",
              "    <tr style=\"text-align: right;\">\n",
              "      <th></th>\n",
              "      <th>count</th>\n",
              "    </tr>\n",
              "    <tr>\n",
              "      <th>Range</th>\n",
              "      <th></th>\n",
              "    </tr>\n",
              "  </thead>\n",
              "  <tbody>\n",
              "    <tr>\n",
              "      <th>Below 100 km</th>\n",
              "      <td>73</td>\n",
              "    </tr>\n",
              "    <tr>\n",
              "      <th>Above 200 km</th>\n",
              "      <td>48</td>\n",
              "    </tr>\n",
              "    <tr>\n",
              "      <th>100 km–200 km</th>\n",
              "      <td>45</td>\n",
              "    </tr>\n",
              "  </tbody>\n",
              "</table>\n",
              "</div><br><label><b>dtype:</b> int64</label>"
            ]
          },
          "metadata": {},
          "execution_count": 69
        }
      ]
    },
    {
      "cell_type": "code",
      "source": [
        "sns.barplot(x=range.index,y=range.values)"
      ],
      "metadata": {
        "colab": {
          "base_uri": "https://localhost:8080/",
          "height": 466
        },
        "id": "rlBBnEgpyt3D",
        "outputId": "1b839dc2-275a-4b1e-cae2-e207aede1643"
      },
      "execution_count": null,
      "outputs": [
        {
          "output_type": "execute_result",
          "data": {
            "text/plain": [
              "<Axes: xlabel='Range'>"
            ]
          },
          "metadata": {},
          "execution_count": 70
        },
        {
          "output_type": "display_data",
          "data": {
            "text/plain": [
              "<Figure size 640x480 with 1 Axes>"
            ],
            "image/png": "[encoded data removed]"
          },
          "metadata": {}
        }
      ]
    },
    {
      "cell_type": "markdown",
      "source": [
        "# OBSERVATION -\n",
        "\n",
        "THE MOST COMMON TRAVEL DISTANCE IS BELOW 100KM . FEWER PEOPLE TRAVEL ABOVE 200KM OR WITHIN 100-200KM\n",
        "\n",
        "\n"
      ],
      "metadata": {
        "id": "GgNsBajxy8mu"
      }
    },
    {
      "cell_type": "code",
      "source": [
        "df[\"FreqCross\"].value_counts()"
      ],
      "metadata": {
        "id": "hB3v97KpuG5w",
        "colab": {
          "base_uri": "https://localhost:8080/",
          "height": 303
        },
        "outputId": "458d7932-5773-453e-99b6-ef7f2d15af57"
      },
      "execution_count": null,
      "outputs": [
        {
          "output_type": "execute_result",
          "data": {
            "text/plain": [
              "FreqCross\n",
              "Sometimes     70\n",
              "Monthly       45\n",
              "Yearly        23\n",
              "Never         20\n",
              "Daily          5\n",
              "Weekly         3\n",
              "Name: count, dtype: int64"
            ],
            "text/html": [
              "<div>\n",
              "<style scoped>\n",
              "    .dataframe tbody tr th:only-of-type {\n",
              "        vertical-align: middle;\n",
              "    }\n",
              "\n",
              "    .dataframe tbody tr th {\n",
              "        vertical-align: top;\n",
              "    }\n",
              "\n",
              "    .dataframe thead th {\n",
              "        text-align: right;\n",
              "    }\n",
              "</style>\n",
              "<table border=\"1\" class=\"dataframe\">\n",
              "  <thead>\n",
              "    <tr style=\"text-align: right;\">\n",
              "      <th></th>\n",
              "      <th>count</th>\n",
              "    </tr>\n",
              "    <tr>\n",
              "      <th>FreqCross</th>\n",
              "      <th></th>\n",
              "    </tr>\n",
              "  </thead>\n",
              "  <tbody>\n",
              "    <tr>\n",
              "      <th>Sometimes</th>\n",
              "      <td>70</td>\n",
              "    </tr>\n",
              "    <tr>\n",
              "      <th>Monthly</th>\n",
              "      <td>45</td>\n",
              "    </tr>\n",
              "    <tr>\n",
              "      <th>Yearly</th>\n",
              "      <td>23</td>\n",
              "    </tr>\n",
              "    <tr>\n",
              "      <th>Never</th>\n",
              "      <td>20</td>\n",
              "    </tr>\n",
              "    <tr>\n",
              "      <th>Daily</th>\n",
              "      <td>5</td>\n",
              "    </tr>\n",
              "    <tr>\n",
              "      <th>Weekly</th>\n",
              "      <td>3</td>\n",
              "    </tr>\n",
              "  </tbody>\n",
              "</table>\n",
              "</div><br><label><b>dtype:</b> int64</label>"
            ]
          },
          "metadata": {},
          "execution_count": 6
        }
      ]
    },
    {
      "cell_type": "code",
      "source": [
        "cross=df[\"FreqCross\"].value_counts()\n",
        "sns.barplot(y=cross.values,x=cross.index)"
      ],
      "metadata": {
        "colab": {
          "base_uri": "https://localhost:8080/",
          "height": 466
        },
        "id": "YxYx6P0c4eKM",
        "outputId": "b9132dee-5438-4098-b948-8927e1e91625"
      },
      "execution_count": null,
      "outputs": [
        {
          "output_type": "execute_result",
          "data": {
            "text/plain": [
              "<Axes: xlabel='FreqCross'>"
            ]
          },
          "metadata": {},
          "execution_count": 25
        },
        {
          "output_type": "display_data",
          "data": {
            "text/plain": [
              "<Figure size 640x480 with 1 Axes>"
            ],
            "image/png": "[encoded data removed]"
          },
          "metadata": {}
        }
      ]
    },
    {
      "cell_type": "markdown",
      "source": [
        "# OBSERVATION -\n",
        "\n",
        "The majority of individuals cross borders occasionally (sometimes), with monthly and yearly crossings being the next most frequent. Daily and weekly border crossings are the least common, along with those who never cross borders.\n",
        "\n"
      ],
      "metadata": {
        "id": "mDLk9dqi5too"
      }
    },
    {
      "cell_type": "code",
      "source": [
        "df[\"PassApplied\"].value_counts()"
      ],
      "metadata": {
        "colab": {
          "base_uri": "https://localhost:8080/",
          "height": 178
        },
        "id": "lVPVGYpP2SmP",
        "outputId": "eeaa2f49-6ba5-4719-e808-3ba81c0af9be"
      },
      "execution_count": null,
      "outputs": [
        {
          "output_type": "execute_result",
          "data": {
            "text/plain": [
              "PassApplied\n",
              "No      99\n",
              "Yes     67\n",
              "Name: count, dtype: int64"
            ],
            "text/html": [
              "<div>\n",
              "<style scoped>\n",
              "    .dataframe tbody tr th:only-of-type {\n",
              "        vertical-align: middle;\n",
              "    }\n",
              "\n",
              "    .dataframe tbody tr th {\n",
              "        vertical-align: top;\n",
              "    }\n",
              "\n",
              "    .dataframe thead th {\n",
              "        text-align: right;\n",
              "    }\n",
              "</style>\n",
              "<table border=\"1\" class=\"dataframe\">\n",
              "  <thead>\n",
              "    <tr style=\"text-align: right;\">\n",
              "      <th></th>\n",
              "      <th>count</th>\n",
              "    </tr>\n",
              "    <tr>\n",
              "      <th>PassApplied</th>\n",
              "      <th></th>\n",
              "    </tr>\n",
              "  </thead>\n",
              "  <tbody>\n",
              "    <tr>\n",
              "      <th>No</th>\n",
              "      <td>99</td>\n",
              "    </tr>\n",
              "    <tr>\n",
              "      <th>Yes</th>\n",
              "      <td>67</td>\n",
              "    </tr>\n",
              "  </tbody>\n",
              "</table>\n",
              "</div><br><label><b>dtype:</b> int64</label>"
            ]
          },
          "metadata": {},
          "execution_count": 9
        }
      ]
    },
    {
      "cell_type": "code",
      "source": [
        "applied=df[\"PassApplied\"].value_counts()\n",
        "plt.pie(x=applied.values,labels=applied.index,autopct=\"%0.2f%%\")"
      ],
      "metadata": {
        "colab": {
          "base_uri": "https://localhost:8080/",
          "height": 510
        },
        "id": "GKR0e40WsfkW",
        "outputId": "007283c4-4503-4b3b-8ad7-8f61bf238598"
      },
      "execution_count": null,
      "outputs": [
        {
          "output_type": "execute_result",
          "data": {
            "text/plain": [
              "([<matplotlib.patches.Wedge at 0x786148f2fa50>,\n",
              "  <matplotlib.patches.Wedge at 0x786149047b10>],\n",
              " [Text(-0.3280177493535043, 1.0499544543022148, 'No'),\n",
              "  Text(0.3280175908147887, -1.049954503831505, 'Yes ')],\n",
              " [Text(-0.1789187723746387, 0.5727024296193899, '59.64%'),\n",
              "  Text(0.17891868589897564, -0.5727024566353663, '40.36%')])"
            ]
          },
          "metadata": {},
          "execution_count": 23
        },
        {
          "output_type": "display_data",
          "data": {
            "text/plain": [
              "<Figure size 640x480 with 1 Axes>"
            ],
            "image/png": "[encoded data removed]"
          },
          "metadata": {}
        }
      ]
    },
    {
      "cell_type": "markdown",
      "source": [
        "# OBSERVATION -\n",
        "\n",
        "Less than half (40.36%) of the respondents have applied for a pass, indicating a low rate of pass applications.\n",
        "\n"
      ],
      "metadata": {
        "id": "2JScXZG8s6nG"
      }
    },
    {
      "cell_type": "code",
      "source": [
        "df[\"PassChange\"].value_counts()"
      ],
      "metadata": {
        "id": "Oa3JDxJhzktM",
        "colab": {
          "base_uri": "https://localhost:8080/",
          "height": 209
        },
        "outputId": "265df43e-5a77-4b51-cdbe-49ce6c7ca5e4"
      },
      "execution_count": null,
      "outputs": [
        {
          "output_type": "execute_result",
          "data": {
            "text/plain": [
              "PassChange\n",
              "Don’t know    117\n",
              "₹100–₹200      29\n",
              "Below ₹100     20\n",
              "Name: count, dtype: int64"
            ],
            "text/html": [
              "<div>\n",
              "<style scoped>\n",
              "    .dataframe tbody tr th:only-of-type {\n",
              "        vertical-align: middle;\n",
              "    }\n",
              "\n",
              "    .dataframe tbody tr th {\n",
              "        vertical-align: top;\n",
              "    }\n",
              "\n",
              "    .dataframe thead th {\n",
              "        text-align: right;\n",
              "    }\n",
              "</style>\n",
              "<table border=\"1\" class=\"dataframe\">\n",
              "  <thead>\n",
              "    <tr style=\"text-align: right;\">\n",
              "      <th></th>\n",
              "      <th>count</th>\n",
              "    </tr>\n",
              "    <tr>\n",
              "      <th>PassChange</th>\n",
              "      <th></th>\n",
              "    </tr>\n",
              "  </thead>\n",
              "  <tbody>\n",
              "    <tr>\n",
              "      <th>Don’t know</th>\n",
              "      <td>117</td>\n",
              "    </tr>\n",
              "    <tr>\n",
              "      <th>₹100–₹200</th>\n",
              "      <td>29</td>\n",
              "    </tr>\n",
              "    <tr>\n",
              "      <th>Below ₹100</th>\n",
              "      <td>20</td>\n",
              "    </tr>\n",
              "  </tbody>\n",
              "</table>\n",
              "</div><br><label><b>dtype:</b> int64</label>"
            ]
          },
          "metadata": {},
          "execution_count": 8
        }
      ]
    },
    {
      "cell_type": "code",
      "source": [
        "df[\"PassBefore\"].value_counts()"
      ],
      "metadata": {
        "colab": {
          "base_uri": "https://localhost:8080/",
          "height": 241
        },
        "id": "ipasuAYf2a2k",
        "outputId": "e3d4f872-f87e-4e29-ea1d-e42d222c21df"
      },
      "execution_count": null,
      "outputs": [
        {
          "output_type": "execute_result",
          "data": {
            "text/plain": [
              "PassBefore\n",
              "Don’t know        81\n",
              " Above ₹300       41\n",
              "₹150–₹300         26\n",
              "Below ₹150\\n\\n    18\n",
              "Name: count, dtype: int64"
            ],
            "text/html": [
              "<div>\n",
              "<style scoped>\n",
              "    .dataframe tbody tr th:only-of-type {\n",
              "        vertical-align: middle;\n",
              "    }\n",
              "\n",
              "    .dataframe tbody tr th {\n",
              "        vertical-align: top;\n",
              "    }\n",
              "\n",
              "    .dataframe thead th {\n",
              "        text-align: right;\n",
              "    }\n",
              "</style>\n",
              "<table border=\"1\" class=\"dataframe\">\n",
              "  <thead>\n",
              "    <tr style=\"text-align: right;\">\n",
              "      <th></th>\n",
              "      <th>count</th>\n",
              "    </tr>\n",
              "    <tr>\n",
              "      <th>PassBefore</th>\n",
              "      <th></th>\n",
              "    </tr>\n",
              "  </thead>\n",
              "  <tbody>\n",
              "    <tr>\n",
              "      <th>Don’t know</th>\n",
              "      <td>81</td>\n",
              "    </tr>\n",
              "    <tr>\n",
              "      <th>Above ₹300</th>\n",
              "      <td>41</td>\n",
              "    </tr>\n",
              "    <tr>\n",
              "      <th>₹150–₹300</th>\n",
              "      <td>26</td>\n",
              "    </tr>\n",
              "    <tr>\n",
              "      <th>Below ₹150\\n\\n</th>\n",
              "      <td>18</td>\n",
              "    </tr>\n",
              "  </tbody>\n",
              "</table>\n",
              "</div><br><label><b>dtype:</b> int64</label>"
            ]
          },
          "metadata": {},
          "execution_count": 10
        }
      ]
    },
    {
      "cell_type": "code",
      "source": [
        "change=df[\"PassChange\"].value_counts()\n",
        "sns.barplot(x=change.index,y=change.values)"
      ],
      "metadata": {
        "colab": {
          "base_uri": "https://localhost:8080/",
          "height": 466
        },
        "id": "3CC2icfG2tOx",
        "outputId": "530c6459-d807-418e-fb60-05997e901ba1"
      },
      "execution_count": null,
      "outputs": [
        {
          "output_type": "execute_result",
          "data": {
            "text/plain": [
              "<Axes: xlabel='PassChange'>"
            ]
          },
          "metadata": {},
          "execution_count": 19
        },
        {
          "output_type": "display_data",
          "data": {
            "text/plain": [
              "<Figure size 640x480 with 1 Axes>"
            ],
            "image/png": "[encoded data removed]"
          },
          "metadata": {}
        }
      ]
    },
    {
      "cell_type": "markdown",
      "source": [
        "# OBSERVATION -\n",
        "\n",
        "The most frequent change in pass fares after the scheme's introduction falls within the range of 100-200, followed by changes below 100. This indicates a notable shift in pass pricing following the implementation of the scheme.\n",
        "\n"
      ],
      "metadata": {
        "id": "cRgdjEe46LV2"
      }
    },
    {
      "cell_type": "code",
      "source": [
        "df[\"SatisfactionBefore\"].value_counts()"
      ],
      "metadata": {
        "colab": {
          "base_uri": "https://localhost:8080/",
          "height": 460
        },
        "id": "To4Jhwr_6ygP",
        "outputId": "2cba250f-0e13-405f-b121-2da32cd1777b"
      },
      "execution_count": null,
      "outputs": [
        {
          "output_type": "execute_result",
          "data": {
            "text/plain": [
              "SatisfactionBefore\n",
              "8     51\n",
              "7     27\n",
              "9     23\n",
              "5     22\n",
              "6     14\n",
              "10    13\n",
              "1      4\n",
              "0      4\n",
              "3      4\n",
              "2      2\n",
              "4      2\n",
              "Name: count, dtype: int64"
            ],
            "text/html": [
              "<div>\n",
              "<style scoped>\n",
              "    .dataframe tbody tr th:only-of-type {\n",
              "        vertical-align: middle;\n",
              "    }\n",
              "\n",
              "    .dataframe tbody tr th {\n",
              "        vertical-align: top;\n",
              "    }\n",
              "\n",
              "    .dataframe thead th {\n",
              "        text-align: right;\n",
              "    }\n",
              "</style>\n",
              "<table border=\"1\" class=\"dataframe\">\n",
              "  <thead>\n",
              "    <tr style=\"text-align: right;\">\n",
              "      <th></th>\n",
              "      <th>count</th>\n",
              "    </tr>\n",
              "    <tr>\n",
              "      <th>SatisfactionBefore</th>\n",
              "      <th></th>\n",
              "    </tr>\n",
              "  </thead>\n",
              "  <tbody>\n",
              "    <tr>\n",
              "      <th>8</th>\n",
              "      <td>51</td>\n",
              "    </tr>\n",
              "    <tr>\n",
              "      <th>7</th>\n",
              "      <td>27</td>\n",
              "    </tr>\n",
              "    <tr>\n",
              "      <th>9</th>\n",
              "      <td>23</td>\n",
              "    </tr>\n",
              "    <tr>\n",
              "      <th>5</th>\n",
              "      <td>22</td>\n",
              "    </tr>\n",
              "    <tr>\n",
              "      <th>6</th>\n",
              "      <td>14</td>\n",
              "    </tr>\n",
              "    <tr>\n",
              "      <th>10</th>\n",
              "      <td>13</td>\n",
              "    </tr>\n",
              "    <tr>\n",
              "      <th>1</th>\n",
              "      <td>4</td>\n",
              "    </tr>\n",
              "    <tr>\n",
              "      <th>0</th>\n",
              "      <td>4</td>\n",
              "    </tr>\n",
              "    <tr>\n",
              "      <th>3</th>\n",
              "      <td>4</td>\n",
              "    </tr>\n",
              "    <tr>\n",
              "      <th>2</th>\n",
              "      <td>2</td>\n",
              "    </tr>\n",
              "    <tr>\n",
              "      <th>4</th>\n",
              "      <td>2</td>\n",
              "    </tr>\n",
              "  </tbody>\n",
              "</table>\n",
              "</div><br><label><b>dtype:</b> int64</label>"
            ]
          },
          "metadata": {},
          "execution_count": 27
        }
      ]
    },
    {
      "cell_type": "code",
      "source": [
        "df[\"SatisfactionAfter\"].value_counts()"
      ],
      "metadata": {
        "colab": {
          "base_uri": "https://localhost:8080/",
          "height": 460
        },
        "id": "C5BZBR6M6ycz",
        "outputId": "d6bdd2c7-6d6a-4f4e-c23d-c6576beb1df0"
      },
      "execution_count": null,
      "outputs": [
        {
          "output_type": "execute_result",
          "data": {
            "text/plain": [
              "SatisfactionAfter\n",
              "5     31\n",
              "6     28\n",
              "7     20\n",
              "8     20\n",
              "1     14\n",
              "9     10\n",
              "2     10\n",
              "4      9\n",
              "0      8\n",
              "3      8\n",
              "10     8\n",
              "Name: count, dtype: int64"
            ],
            "text/html": [
              "<div>\n",
              "<style scoped>\n",
              "    .dataframe tbody tr th:only-of-type {\n",
              "        vertical-align: middle;\n",
              "    }\n",
              "\n",
              "    .dataframe tbody tr th {\n",
              "        vertical-align: top;\n",
              "    }\n",
              "\n",
              "    .dataframe thead th {\n",
              "        text-align: right;\n",
              "    }\n",
              "</style>\n",
              "<table border=\"1\" class=\"dataframe\">\n",
              "  <thead>\n",
              "    <tr style=\"text-align: right;\">\n",
              "      <th></th>\n",
              "      <th>count</th>\n",
              "    </tr>\n",
              "    <tr>\n",
              "      <th>SatisfactionAfter</th>\n",
              "      <th></th>\n",
              "    </tr>\n",
              "  </thead>\n",
              "  <tbody>\n",
              "    <tr>\n",
              "      <th>5</th>\n",
              "      <td>31</td>\n",
              "    </tr>\n",
              "    <tr>\n",
              "      <th>6</th>\n",
              "      <td>28</td>\n",
              "    </tr>\n",
              "    <tr>\n",
              "      <th>7</th>\n",
              "      <td>20</td>\n",
              "    </tr>\n",
              "    <tr>\n",
              "      <th>8</th>\n",
              "      <td>20</td>\n",
              "    </tr>\n",
              "    <tr>\n",
              "      <th>1</th>\n",
              "      <td>14</td>\n",
              "    </tr>\n",
              "    <tr>\n",
              "      <th>9</th>\n",
              "      <td>10</td>\n",
              "    </tr>\n",
              "    <tr>\n",
              "      <th>2</th>\n",
              "      <td>10</td>\n",
              "    </tr>\n",
              "    <tr>\n",
              "      <th>4</th>\n",
              "      <td>9</td>\n",
              "    </tr>\n",
              "    <tr>\n",
              "      <th>0</th>\n",
              "      <td>8</td>\n",
              "    </tr>\n",
              "    <tr>\n",
              "      <th>3</th>\n",
              "      <td>8</td>\n",
              "    </tr>\n",
              "    <tr>\n",
              "      <th>10</th>\n",
              "      <td>8</td>\n",
              "    </tr>\n",
              "  </tbody>\n",
              "</table>\n",
              "</div><br><label><b>dtype:</b> int64</label>"
            ]
          },
          "metadata": {},
          "execution_count": 28
        }
      ]
    },
    {
      "cell_type": "code",
      "source": [
        "sns.boxplot(data=df[['SatisfactionBefore', 'SatisfactionAfter']])\n",
        "plt.title('Comparison of Satisfaction Before and After Scheme')\n",
        "plt.xlabel('Satisfaction Level')\n",
        "plt.ylabel('Score (0-10)')\n",
        "plt.show()"
      ],
      "metadata": {
        "colab": {
          "base_uri": "https://localhost:8080/",
          "height": 472
        },
        "id": "RaxJwcT16yaK",
        "outputId": "7a5b3ea3-3723-42b2-fadf-a08a187622f0"
      },
      "execution_count": null,
      "outputs": [
        {
          "output_type": "display_data",
          "data": {
            "text/plain": [
              "<Figure size 640x480 with 1 Axes>"
            ],
            "image/png": "[encoded data removed]"
          },
          "metadata": {}
        }
      ]
    },
    {
      "cell_type": "markdown",
      "source": [
        "# OBSERVATION -\n",
        "\n",
        "The satisfaction levels before the implementation of the scheme were generally higher, concentrated between scores of 6 and 8, with a few outliers scoring as low as 0 to 2. In contrast, after the introduction of the scheme, satisfaction scores shifted downward, centering more around 4 to 7. This suggests a possible decline in user satisfaction following the implementation, possibly due to issues like overcrowding, availability, or service delays.\n",
        "\n"
      ],
      "metadata": {
        "id": "WMc17C1l75sA"
      }
    },
    {
      "cell_type": "code",
      "source": [
        "Opinion=df.groupby([\"Gender\",\"Opinion\"]).size().reset_index(name=\"count\")\n",
        "sns.barplot(x=\"Opinion\",y=\"count\",hue=\"Gender\",data=Opinion)"
      ],
      "metadata": {
        "colab": {
          "base_uri": "https://localhost:8080/",
          "height": 466
        },
        "id": "CIxDoun827nv",
        "outputId": "57cbda0c-1601-41e5-85f0-f8a7493ff60b"
      },
      "execution_count": null,
      "outputs": [
        {
          "output_type": "execute_result",
          "data": {
            "text/plain": [
              "<Axes: xlabel='Opinion', ylabel='count'>"
            ]
          },
          "metadata": {},
          "execution_count": 26
        },
        {
          "output_type": "display_data",
          "data": {
            "text/plain": [
              "<Figure size 640x480 with 1 Axes>"
            ],
            "image/png": "[encoded data removed]"
          },
          "metadata": {}
        }
      ]
    },
    {
      "cell_type": "markdown",
      "source": [
        "# OBSERVATION-\n",
        "\n",
        " WHILE A MAJORITY OF MEN OPPOSE THE SCHEME, WOMEN ARE MORE LIKELY TO BE  NEUTRAL, FOLLOWED BY THOSE WHO SUPPORT"
      ],
      "metadata": {
        "id": "M11XBRc06sKP"
      }
    }
  ]
}